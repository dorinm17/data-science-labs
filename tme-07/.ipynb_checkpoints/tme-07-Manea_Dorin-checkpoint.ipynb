{
 "cells": [
  {
   "cell_type": "markdown",
   "metadata": {},
   "source": [
    "IA & Data science (LU3IN0226) -- 2023-2024\n",
    "--------\n",
    "*&copy; Equipe pédagogique: Téo Guichoux, Christophe Marsala, Olivier Schwander, Jean-Noël Vittaut.*\n"
   ]
  },
  {
   "cell_type": "markdown",
   "metadata": {},
   "source": [
    "# TD-TME07: les arbres de décision (catégoriel)\n",
    "\n",
    "L'objectif de ce notebook est d'implémenter un algorithme d'apprentissage supervisé qui travaille sur des données catégorielles, l'algorithme de construction d'arbres de décision.\n"
   ]
  },
  {
   "cell_type": "markdown",
   "metadata": {},
   "source": [
    "## Préparation du notebook"
   ]
  },
  {
   "cell_type": "markdown",
   "metadata": {},
   "source": [
    "<font size=\"+1\" color=\"RED\">**[Q]**</font> **Indiquer dans la boîte ci-dessous vos noms et prénoms :**"
   ]
  },
  {
   "cell_type": "markdown",
   "metadata": {},
   "source": [
    "Manea Dorin-Mihai, 21302798"
   ]
  },
  {
   "cell_type": "markdown",
   "metadata": {},
   "source": [
    "<font color=\"RED\" size=\"+1\">**[Q]**</font> **Renommer ce fichier ipython**\n",
    "\n",
    "Comme lors des précédents TME, renommer ce fichier en incluant les noms de votre binôme.\n"
   ]
  },
  {
   "cell_type": "markdown",
   "metadata": {},
   "source": [
    "<font color=\"RED\" size=\"+1\">**[Q]**</font> **Mise à jour de la librairie `iads`**\n",
    "\n",
    "En premier lieu, vérifier que votre librairie `iads` est bien à jour et qu'elle inclut bien tout ce que vous avez programmé jusque là."
   ]
  },
  {
   "cell_type": "code",
   "execution_count": 2,
   "metadata": {},
   "outputs": [
    {
     "name": "stdout",
     "output_type": "stream",
     "text": [
      "The autoreload extension is already loaded. To reload it, use:\n",
      "  %reload_ext autoreload\n"
     ]
    }
   ],
   "source": [
    "# Importation de librairies standards:\n",
    "import numpy as np\n",
    "import pandas as pd\n",
    "import matplotlib.pyplot as plt\n",
    "%matplotlib inline  \n",
    "\n",
    "# un nouvel import utile pour la 3D:\n",
    "from matplotlib import cm\n",
    "\n",
    "# Les instructions suivantes sont TRES utiles pour recharger automatiquement \n",
    "# le code modifié dans les librairies externes\n",
    "%load_ext autoreload\n",
    "%autoreload 2\n",
    "\n",
    "# Pour mesurer le temps\n",
    "import time\n",
    "\n",
    "# Importation de votre librairie iads:\n",
    "# La ligne suivante permet de préciser le chemin d'accès à la librairie iads\n",
    "import sys\n",
    "sys.path.append('../')   # iads doit être dans le répertoire père du répertoire courant !\n",
    "\n",
    "# Importation de la librairie iads\n",
    "import iads as iads\n",
    "\n",
    "# importation de Classifiers\n",
    "from iads import Classifiers as classif\n",
    "\n",
    "# importation de utils\n",
    "from iads import utils as ut\n",
    "\n",
    "# importation de evaluation\n",
    "from iads import evaluation as ev\n",
    "    "
   ]
  },
  {
   "cell_type": "code",
   "execution_count": 3,
   "metadata": {},
   "outputs": [
    {
     "name": "stdout",
     "output_type": "stream",
     "text": [
      "Numéro de version de Numpy:  1.25.2\n",
      "Numéro de version de Pandas:  2.1.1\n"
     ]
    }
   ],
   "source": [
    "print(\"Numéro de version de Numpy: \",np.__version__)\n",
    "print(\"Numéro de version de Pandas: \",pd.__version__)"
   ]
  },
  {
   "cell_type": "markdown",
   "metadata": {},
   "source": [
    "Afin de réaliser les premiers essais avec les fonctions que l'on va programmer, on charge la base sur les élections vue dans le cours 7."
   ]
  },
  {
   "cell_type": "code",
   "execution_count": 4,
   "metadata": {},
   "outputs": [
    {
     "data": {
      "text/html": [
       "<div>\n",
       "<style scoped>\n",
       "    .dataframe tbody tr th:only-of-type {\n",
       "        vertical-align: middle;\n",
       "    }\n",
       "\n",
       "    .dataframe tbody tr th {\n",
       "        vertical-align: top;\n",
       "    }\n",
       "\n",
       "    .dataframe thead th {\n",
       "        text-align: right;\n",
       "    }\n",
       "</style>\n",
       "<table border=\"1\" class=\"dataframe\">\n",
       "  <thead>\n",
       "    <tr style=\"text-align: right;\">\n",
       "      <th></th>\n",
       "      <th>Adresse</th>\n",
       "      <th>Majeur?</th>\n",
       "      <th>Nationalite</th>\n",
       "      <th>Label</th>\n",
       "    </tr>\n",
       "  </thead>\n",
       "  <tbody>\n",
       "    <tr>\n",
       "      <th>0</th>\n",
       "      <td>Paris</td>\n",
       "      <td>oui</td>\n",
       "      <td>Francais</td>\n",
       "      <td>1</td>\n",
       "    </tr>\n",
       "    <tr>\n",
       "      <th>1</th>\n",
       "      <td>Paris</td>\n",
       "      <td>non</td>\n",
       "      <td>Francais</td>\n",
       "      <td>-1</td>\n",
       "    </tr>\n",
       "    <tr>\n",
       "      <th>2</th>\n",
       "      <td>Montpellier</td>\n",
       "      <td>oui</td>\n",
       "      <td>Italien</td>\n",
       "      <td>1</td>\n",
       "    </tr>\n",
       "    <tr>\n",
       "      <th>3</th>\n",
       "      <td>Paris</td>\n",
       "      <td>oui</td>\n",
       "      <td>Suisse</td>\n",
       "      <td>-1</td>\n",
       "    </tr>\n",
       "    <tr>\n",
       "      <th>4</th>\n",
       "      <td>Strasbourg</td>\n",
       "      <td>non</td>\n",
       "      <td>Italien</td>\n",
       "      <td>-1</td>\n",
       "    </tr>\n",
       "    <tr>\n",
       "      <th>5</th>\n",
       "      <td>Strasbourg</td>\n",
       "      <td>non</td>\n",
       "      <td>Francais</td>\n",
       "      <td>-1</td>\n",
       "    </tr>\n",
       "    <tr>\n",
       "      <th>6</th>\n",
       "      <td>Strasbourg</td>\n",
       "      <td>oui</td>\n",
       "      <td>Francais</td>\n",
       "      <td>1</td>\n",
       "    </tr>\n",
       "    <tr>\n",
       "      <th>7</th>\n",
       "      <td>Montpellier</td>\n",
       "      <td>oui</td>\n",
       "      <td>Suisse</td>\n",
       "      <td>-1</td>\n",
       "    </tr>\n",
       "  </tbody>\n",
       "</table>\n",
       "</div>"
      ],
      "text/plain": [
       "       Adresse Majeur? Nationalite  Label\n",
       "0        Paris     oui    Francais      1\n",
       "1        Paris     non    Francais     -1\n",
       "2  Montpellier     oui     Italien      1\n",
       "3        Paris     oui      Suisse     -1\n",
       "4   Strasbourg     non     Italien     -1\n",
       "5   Strasbourg     non    Francais     -1\n",
       "6   Strasbourg     oui    Francais      1\n",
       "7  Montpellier     oui      Suisse     -1"
      ]
     },
     "execution_count": 4,
     "metadata": {},
     "output_type": "execute_result"
    }
   ],
   "source": [
    "# Chargement des fichiers de données :\n",
    "\n",
    "elections_df = pd.read_csv(\"data/elections.csv\")\n",
    "elections_df\n"
   ]
  },
  {
   "cell_type": "markdown",
   "metadata": {},
   "source": [
    "Le résultat est un **dataframe**, qui est une structure de données de la librairie Panda qui fournit des fonctionnalités plus souples que les arrays de Numpy. Penser à revoir la documentation de Panda (cf. 1er TME).\n",
    "\n",
    "Pour pouvoir appliquer certaines des fonctions écrites dans les TME précédents, on commence par convertir les données du dataframe en array."
   ]
  },
  {
   "cell_type": "code",
   "execution_count": 7,
   "metadata": {},
   "outputs": [
    {
     "data": {
      "text/plain": [
       "Index(['Adresse', 'Majeur?', 'Nationalite', 'Label'], dtype='object')"
      ]
     },
     "execution_count": 7,
     "metadata": {},
     "output_type": "execute_result"
    }
   ],
   "source": [
    "# Pour avoir le nom des colonnes de ce dataframe :\n",
    "elections_df.columns"
   ]
  },
  {
   "cell_type": "code",
   "execution_count": 5,
   "metadata": {},
   "outputs": [
    {
     "name": "stdout",
     "output_type": "stream",
     "text": [
      "Noms des features:  ['Adresse', 'Majeur?', 'Nationalite']\n"
     ]
    }
   ],
   "source": [
    "# Pour ne garder que le nom des variables de description (et pas la classe):\n",
    "# sous la forme d'une liste:\n",
    "\n",
    "elections_noms = [nom for nom in elections_df.columns if nom != 'Label']\n",
    "\n",
    "# Passer du dataframe à des arrays:\n",
    "elections_desc = np.array(elections_df[elections_noms])\n",
    "elections_label = np.array(elections_df['Label'])\n",
    "\n",
    "print(\"Noms des features: \",elections_noms)"
   ]
  },
  {
   "cell_type": "code",
   "execution_count": 6,
   "metadata": {},
   "outputs": [
    {
     "data": {
      "text/plain": [
       "array([ 1, -1, -1], dtype=int64)"
      ]
     },
     "execution_count": 6,
     "metadata": {},
     "output_type": "execute_result"
    }
   ],
   "source": [
    "elections_label[elections_desc[:,0] == \"Paris\"]"
   ]
  },
  {
   "cell_type": "markdown",
   "metadata": {},
   "source": [
    "## Premières fonctions: entropie et classe majoritaire"
   ]
  },
  {
   "cell_type": "markdown",
   "metadata": {},
   "source": [
    "<font color=\"RED\" size=\"+1\">**[Q]**</font> Ecrire la fonction <code>classe_majoritaire</code> qui, étant donné un array de labels rend la classe majoritaire (celle qui est possédée par le plus grand nombre d'exemples donc...). En cas d'égalité, cette fonction rend la première classe rencontrée.\n",
    "\n",
    "**Remarque :** on utilise la fonction numpy `unique` qui permet d'obtenir les valeurs différentes d'un array ainsi que leur décompte."
   ]
  },
  {
   "cell_type": "code",
   "execution_count": 8,
   "metadata": {},
   "outputs": [
    {
     "name": "stdout",
     "output_type": "stream",
     "text": [
      "Valeurs différentes dans l'array           :  [-1  1]\n",
      "Décompte de chaque valeur (respectivement) :  [5 3]\n"
     ]
    }
   ],
   "source": [
    "# Exemple d'utilisation de la fonction numpy `unique`\n",
    "\n",
    "valeurs, nb_fois = np.unique(elections_label,return_counts=True)\n",
    "\n",
    "print(\"Valeurs différentes dans l'array           : \",valeurs)\n",
    "print(\"Décompte de chaque valeur (respectivement) : \",nb_fois)"
   ]
  },
  {
   "cell_type": "code",
   "execution_count": 9,
   "metadata": {},
   "outputs": [],
   "source": [
    "def classe_majoritaire(Y):\n",
    "    \"\"\" Y : (array) : array de labels\n",
    "        rend la classe majoritaire ()\n",
    "    \"\"\"\n",
    "    valeurs, nb_fois = np.unique(Y, return_counts=True)\n",
    "    idx = np.where(nb_fois == np.max(nb_fois))[0][0]\n",
    "\n",
    "    return valeurs[idx]"
   ]
  },
  {
   "cell_type": "code",
   "execution_count": 10,
   "metadata": {},
   "outputs": [
    {
     "data": {
      "text/plain": [
       "-1"
      ]
     },
     "execution_count": 10,
     "metadata": {},
     "output_type": "execute_result"
    }
   ],
   "source": [
    "#Vérification sur nos données:\n",
    "classe_majoritaire(elections_label)"
   ]
  },
  {
   "cell_type": "markdown",
   "metadata": {},
   "source": [
    "### Entropie et gain d'information\n",
    "\n",
    "<div class=\"alert alert-block alert-warning\">\n",
    "    \n",
    "On note $\\{c_1, c_2,..., c_k\\}$, l'ensemble des valeurs de classes possibles dans un ensemble $Y$.\n",
    "\n",
    "On note $p_1$ la probabilité de la classe $c_1$ parmi $Y$, etc., et on note $P=(p_1, p_2,..., p_k)$ la distribution de probabilités sur les classes (on a $\\sum_{i=1}^{k} p_i =1$ et $p_i \\in [0,1]$ pour tout $i$).\n",
    "\n",
    "L'**entropie de Shannon** de la distribution $P$ est donnée par:\n",
    "\n",
    "$ H_S(P) = -\\sum_{i=1}^{k} p_i \\log_k(p_i)$\n",
    "\n",
    "Le logarithme utilisé est le logarithme en base $k$ afin d'obtenir une valeur comprise entre $0$ et $1$ de l'entropie. \n",
    "</div>\n"
   ]
  },
  {
   "cell_type": "markdown",
   "metadata": {},
   "source": [
    "Pour ce qui suit, une *distribution de probabilités* est représentée par une **liste** Python $P=[p_1,...,p_k]$ de valeurs réelles telle que\n",
    "* pour tout $i=1,..., k$ : $0 \\leq p_i \\leq 1$\n",
    "* $\\sum_{i=1}^{k}p_i = 1$\n",
    "\n",
    "<font color=\"RED\" size=\"+1\">**[Q]**</font> \n",
    "Ecrire la fonction `shannon` qui, étant donné une distribution de probabilités $P$ rend la valeur de $H_S(P)$, l'entropie de Shannon de la distribution asociée à $P$.\n",
    "\n",
    "La **base du log** à utiliser est donnée par le nombre d'éléments dans $P$.\n",
    "\n",
    "\n",
    "\n",
    "\n"
   ]
  },
  {
   "cell_type": "code",
   "execution_count": 11,
   "metadata": {},
   "outputs": [],
   "source": [
    "import math\n",
    "def shannon(P):\n",
    "    \"\"\" list[Number] -> float\n",
    "        Hypothèse: P est une distribution de probabilités\n",
    "        - P: distribution de probabilités\n",
    "        rend la valeur de l'entropie de Shannon correspondante\n",
    "    \"\"\"\n",
    "    base = len(P)\n",
    "    \n",
    "    if base == 1:\n",
    "        return 0.0\n",
    "    \n",
    "    arr_p = np.array([p * math.log(p, base) for p in P if p != 0])\n",
    "    res = -np.sum(arr_p)\n",
    "    \n",
    "    if res == 0.0:\n",
    "        return 0.0\n",
    "\n",
    "    return res"
   ]
  },
  {
   "cell_type": "code",
   "execution_count": 12,
   "metadata": {},
   "outputs": [
    {
     "name": "stdout",
     "output_type": "stream",
     "text": [
      "H([1]) =  0.0\n",
      "\n",
      "H([1,0]) =  0.0\n",
      "\n",
      "H([0.25, 0.25, 0.25, 0.25]) =  1.0\n",
      "\n",
      "H([0.7, 0.1, 0.2, 0.0]) =  0.5783898247235197\n",
      "\n",
      "H([1.0/3, 2.0/3]) =  0.9182958340544896\n"
     ]
    }
   ],
   "source": [
    "# Exemples d'utilisation:\n",
    "print(\"H([1]) = \", shannon([1]))\n",
    "\n",
    "print(\"\\nH([1,0]) = \", shannon([1, 0]))\n",
    "\n",
    "print(\"\\nH([0.25, 0.25, 0.25, 0.25]) = \", shannon([0.25, 0.25, 0.25, 0.25]))\n",
    "\n",
    "print(\"\\nH([0.7, 0.1, 0.2, 0.0]) = \", shannon([0.7, 0.1, 0.2, 0.0]))\n",
    "\n",
    "print(\"\\nH([1.0/3, 2.0/3]) = \", shannon([1.0/3, 2.0/3]))"
   ]
  },
  {
   "cell_type": "markdown",
   "metadata": {},
   "source": [
    "<font color=\"RED\" size=\"+1\">**[Q]**</font> Tracer, à l'aide de la fonction `plot`, la courbe donnant la valeur de `shannon([p, 1-p])` en fonction de `p`."
   ]
  },
  {
   "cell_type": "code",
   "execution_count": 13,
   "metadata": {},
   "outputs": [
    {
     "data": {
      "text/plain": [
       "<matplotlib.legend.Legend at 0x1c861e67d00>"
      ]
     },
     "execution_count": 13,
     "metadata": {},
     "output_type": "execute_result"
    },
    {
     "data": {
      "image/png": "[encoded data removed]",
      "text/plain": [
       "<Figure size 640x480 with 1 Axes>"
      ]
     },
     "metadata": {},
     "output_type": "display_data"
    }
   ],
   "source": [
    "# Tracé de la courbe:\n",
    "x = np.linspace(0, 1, 50)\n",
    "y = [shannon([p, 1-p]) for p in x]\n",
    "\n",
    "plt.plot(x, y, label='Fonction Shannon')\n",
    "plt.grid()\n",
    "plt.xlabel(\"p\")\n",
    "plt.ylabel(\"shannon([p, 1-p]\")\n",
    "plt.legend()"
   ]
  },
  {
   "cell_type": "markdown",
   "metadata": {},
   "source": [
    "<font color=\"RED\" size=\"+1\">**[Q]**</font> A l'aide de la fonction <code>shannon</code>, écrire la fonction <code>entropie</code> qui prend un ensemble de labels en argument et renvoie l'entropie de la distribution des classes dans cet ensemble."
   ]
  },
  {
   "cell_type": "code",
   "execution_count": 14,
   "metadata": {},
   "outputs": [],
   "source": [
    "def entropie(Y):\n",
    "    \"\"\" Y : (array) : ensemble de labels de classe\n",
    "        rend l'entropie de l'ensemble Y\n",
    "    \"\"\"\n",
    "    n = len(Y)\n",
    "    P = [len(np.where(Y==i)[0]) / n for i in np.unique(Y)]\n",
    "\n",
    "    return shannon(P)   "
   ]
  },
  {
   "cell_type": "code",
   "execution_count": 15,
   "metadata": {},
   "outputs": [
    {
     "name": "stdout",
     "output_type": "stream",
     "text": [
      "Entropie de  [ 1 -1  1 -1 -1 -1  1 -1] :  0.9544340029249649\n",
      "Entropie de  [ 1 -1  1 -1] :  1.0\n"
     ]
    }
   ],
   "source": [
    "# Exemple sur nos données :\n",
    "print(\"Entropie de \", elections_label,\": \",entropie(elections_label))\n",
    "\n",
    "print(\"Entropie de \", elections_label[0:4],\": \",entropie(elections_label[0:4]))"
   ]
  },
  {
   "cell_type": "markdown",
   "metadata": {},
   "source": [
    "## Arbres de décision\n",
    "\n",
    "Dans cette partie, on réalise l'implémentation de l'algorithme de construction d'un arbre de décision."
   ]
  },
  {
   "cell_type": "markdown",
   "metadata": {},
   "source": [
    "### Représentation d'un arbre en Python"
   ]
  },
  {
   "cell_type": "markdown",
   "metadata": {},
   "source": [
    "<div class=\"alert alert-block alert-warning\">\n",
    "Pour représenter un arbre en Python, on a besoin de définir une structure de données adéquate. \n",
    "\n",
    "Un arbre de décision est défini par des **noeuds** qui sont de 2 types :\n",
    "- *noeud interne* : c'est un noeud qui est associé à un attribut (ie. une feature de description des exemples) et qui possède des fils qui sont aussi des noeuds. \n",
    "- *feuille* : c'est un noeud qui est associé à un label de la classe et qui a la particularité de ne pas avoir de descendants.\n",
    "</div>\n",
    "\n",
    "Pour représenter des noeuds, nous définissons la classe `NoeudCategoriel` suivante:"
   ]
  },
  {
   "cell_type": "code",
   "execution_count": 16,
   "metadata": {},
   "outputs": [],
   "source": [
    "# La librairie suivante est nécessaire pour l'affichage graphique de l'arbre:\n",
    "import graphviz as gv\n",
    "\n",
    "# Eventuellement, il peut être nécessaire d'installer graphviz sur votre compte:\n",
    "# pip install --user --install-option=\"--prefix=\" -U graphviz\n",
    "\n",
    "class NoeudCategoriel:\n",
    "    \"\"\" Classe pour représenter des noeuds d'un arbre de décision\n",
    "    \"\"\"\n",
    "    def __init__(self, num_att=-1, nom=''):\n",
    "        \"\"\" Constructeur: il prend en argument\n",
    "            - num_att (int) : le numéro de l'attribut auquel il se rapporte: de 0 à ...\n",
    "              si le noeud se rapporte à la classe, le numéro est -1, on n'a pas besoin\n",
    "              de le préciser\n",
    "            - nom (str) : une chaîne de caractères donnant le nom de l'attribut si\n",
    "              il est connu (sinon, on ne met rien et le nom sera donné de façon \n",
    "              générique: \"att_Numéro\")\n",
    "        \"\"\"\n",
    "        self.attribut = num_att    # numéro de l'attribut\n",
    "        if (nom == ''):            # son nom si connu\n",
    "            self.nom_attribut = 'att_'+str(num_att)\n",
    "        else:\n",
    "            self.nom_attribut = nom \n",
    "        self.Les_fils = None       # aucun fils à la création, ils seront ajoutés\n",
    "        self.classe   = None       # valeur de la classe si c'est une feuille\n",
    "        \n",
    "    def est_feuille(self):\n",
    "        \"\"\" rend True si l'arbre est une feuille \n",
    "            c'est une feuille s'il n'a aucun fils\n",
    "        \"\"\"\n",
    "        return self.Les_fils == None\n",
    "    \n",
    "    def ajoute_fils(self, valeur, Fils):\n",
    "        \"\"\" valeur : valeur de l'attribut de ce noeud qui doit être associée à Fils\n",
    "                     le type de cette valeur dépend de la base\n",
    "            Fils (NoeudCategoriel) : un nouveau fils pour ce noeud\n",
    "            Les fils sont stockés sous la forme d'un dictionnaire:\n",
    "            Dictionnaire {valeur_attribut : NoeudCategoriel}\n",
    "        \"\"\"\n",
    "        if self.Les_fils == None:\n",
    "            self.Les_fils = dict()\n",
    "        self.Les_fils[valeur] = Fils\n",
    "        # Rem: attention, on ne fait aucun contrôle, la nouvelle association peut\n",
    "        # écraser une association existante.\n",
    "    \n",
    "    def ajoute_feuille(self,classe):\n",
    "        \"\"\" classe: valeur de la classe\n",
    "            Ce noeud devient un noeud feuille\n",
    "        \"\"\"\n",
    "        self.classe    = classe\n",
    "        self.Les_fils  = None   # normalement, pas obligatoire ici, c'est pour être sûr\n",
    "        \n",
    "    def classifie(self, exemple):\n",
    "        \"\"\" exemple : numpy.array\n",
    "            rend la classe de l'exemple \n",
    "            on rend la valeur None si l'exemple ne peut pas être classé (cf. les questions\n",
    "            posées en fin de ce notebook)\n",
    "        \"\"\"\n",
    "        if self.est_feuille():\n",
    "            return self.classe\n",
    "        if exemple[self.attribut] in self.Les_fils:\n",
    "            # descente récursive dans le noeud associé à la valeur de l'attribut\n",
    "            # pour cet exemple:\n",
    "            return self.Les_fils[exemple[self.attribut]].classifie(exemple)\n",
    "        else:\n",
    "            # Cas particulier : on ne trouve pas la valeur de l'exemple dans la liste des\n",
    "            # fils du noeud... Voir la fin de ce notebook pour essayer de résoudre ce mystère...\n",
    "            print('\\t*** Warning: attribut ',self.nom_attribut,' -> Valeur inconnue: ',exemple[self.attribut])\n",
    "            return None\n",
    "    \n",
    "    def compte_feuilles(self):\n",
    "        \"\"\" rend le nombre de feuilles sous ce noeud\n",
    "        \"\"\"\n",
    "        raise NotImplementedError(\"A implémenter plus tard (voir plus loin)\")\n",
    "     \n",
    "    def to_graph(self, g, prefixe='A'):\n",
    "        \"\"\" construit une représentation de l'arbre pour pouvoir l'afficher graphiquement\n",
    "            Cette fonction ne nous intéressera pas plus que ça, elle ne sera donc pas expliquée            \n",
    "        \"\"\"\n",
    "        if self.est_feuille():\n",
    "            g.node(prefixe,str(self.classe),shape='box')\n",
    "        else:\n",
    "            g.node(prefixe, self.nom_attribut)\n",
    "            i =0\n",
    "            for (valeur, sous_arbre) in self.Les_fils.items():\n",
    "                sous_arbre.to_graph(g,prefixe+str(i))\n",
    "                g.edge(prefixe,prefixe+str(i), valeur)\n",
    "                i = i+1        \n",
    "        return g\n"
   ]
  },
  {
   "cell_type": "code",
   "execution_count": 17,
   "metadata": {},
   "outputs": [
    {
     "ename": "ExecutableNotFound",
     "evalue": "failed to execute WindowsPath('dot'), make sure the Graphviz executables are on your systems' PATH",
     "output_type": "error",
     "traceback": [
      "\u001b[1;31m---------------------------------------------------------------------------\u001b[0m",
      "\u001b[1;31mFileNotFoundError\u001b[0m                         Traceback (most recent call last)",
      "File \u001b[1;32m~\\AppData\\Local\\Programs\\Python\\Python39\\lib\\site-packages\\graphviz\\backend\\execute.py:79\u001b[0m, in \u001b[0;36mrun_check\u001b[1;34m(cmd, input_lines, encoding, quiet, **kwargs)\u001b[0m\n\u001b[0;32m     78\u001b[0m         kwargs[\u001b[38;5;124m'\u001b[39m\u001b[38;5;124mstdout\u001b[39m\u001b[38;5;124m'\u001b[39m] \u001b[38;5;241m=\u001b[39m kwargs[\u001b[38;5;124m'\u001b[39m\u001b[38;5;124mstderr\u001b[39m\u001b[38;5;124m'\u001b[39m] \u001b[38;5;241m=\u001b[39m subprocess\u001b[38;5;241m.\u001b[39mPIPE\n\u001b[1;32m---> 79\u001b[0m     proc \u001b[38;5;241m=\u001b[39m \u001b[43m_run_input_lines\u001b[49m\u001b[43m(\u001b[49m\u001b[43mcmd\u001b[49m\u001b[43m,\u001b[49m\u001b[43m \u001b[49m\u001b[43minput_lines\u001b[49m\u001b[43m,\u001b[49m\u001b[43m \u001b[49m\u001b[43mkwargs\u001b[49m\u001b[38;5;241;43m=\u001b[39;49m\u001b[43mkwargs\u001b[49m\u001b[43m)\u001b[49m\n\u001b[0;32m     80\u001b[0m \u001b[38;5;28;01melse\u001b[39;00m:\n",
      "File \u001b[1;32m~\\AppData\\Local\\Programs\\Python\\Python39\\lib\\site-packages\\graphviz\\backend\\execute.py:99\u001b[0m, in \u001b[0;36m_run_input_lines\u001b[1;34m(cmd, input_lines, kwargs)\u001b[0m\n\u001b[0;32m     98\u001b[0m \u001b[38;5;28;01mdef\u001b[39;00m \u001b[38;5;21m_run_input_lines\u001b[39m(cmd, input_lines, \u001b[38;5;241m*\u001b[39m, kwargs):\n\u001b[1;32m---> 99\u001b[0m     popen \u001b[38;5;241m=\u001b[39m subprocess\u001b[38;5;241m.\u001b[39mPopen(cmd, stdin\u001b[38;5;241m=\u001b[39msubprocess\u001b[38;5;241m.\u001b[39mPIPE, \u001b[38;5;241m*\u001b[39m\u001b[38;5;241m*\u001b[39mkwargs)\n\u001b[0;32m    101\u001b[0m     stdin_write \u001b[38;5;241m=\u001b[39m popen\u001b[38;5;241m.\u001b[39mstdin\u001b[38;5;241m.\u001b[39mwrite\n",
      "File \u001b[1;32m~\\AppData\\Local\\Programs\\Python\\Python39\\lib\\subprocess.py:951\u001b[0m, in \u001b[0;36mPopen.__init__\u001b[1;34m(self, args, bufsize, executable, stdin, stdout, stderr, preexec_fn, close_fds, shell, cwd, env, universal_newlines, startupinfo, creationflags, restore_signals, start_new_session, pass_fds, user, group, extra_groups, encoding, errors, text, umask)\u001b[0m\n\u001b[0;32m    948\u001b[0m             \u001b[38;5;28mself\u001b[39m\u001b[38;5;241m.\u001b[39mstderr \u001b[38;5;241m=\u001b[39m io\u001b[38;5;241m.\u001b[39mTextIOWrapper(\u001b[38;5;28mself\u001b[39m\u001b[38;5;241m.\u001b[39mstderr,\n\u001b[0;32m    949\u001b[0m                     encoding\u001b[38;5;241m=\u001b[39mencoding, errors\u001b[38;5;241m=\u001b[39merrors)\n\u001b[1;32m--> 951\u001b[0m     \u001b[38;5;28;43mself\u001b[39;49m\u001b[38;5;241;43m.\u001b[39;49m\u001b[43m_execute_child\u001b[49m\u001b[43m(\u001b[49m\u001b[43margs\u001b[49m\u001b[43m,\u001b[49m\u001b[43m \u001b[49m\u001b[43mexecutable\u001b[49m\u001b[43m,\u001b[49m\u001b[43m \u001b[49m\u001b[43mpreexec_fn\u001b[49m\u001b[43m,\u001b[49m\u001b[43m \u001b[49m\u001b[43mclose_fds\u001b[49m\u001b[43m,\u001b[49m\n\u001b[0;32m    952\u001b[0m \u001b[43m                        \u001b[49m\u001b[43mpass_fds\u001b[49m\u001b[43m,\u001b[49m\u001b[43m \u001b[49m\u001b[43mcwd\u001b[49m\u001b[43m,\u001b[49m\u001b[43m \u001b[49m\u001b[43menv\u001b[49m\u001b[43m,\u001b[49m\n\u001b[0;32m    953\u001b[0m \u001b[43m                        \u001b[49m\u001b[43mstartupinfo\u001b[49m\u001b[43m,\u001b[49m\u001b[43m \u001b[49m\u001b[43mcreationflags\u001b[49m\u001b[43m,\u001b[49m\u001b[43m \u001b[49m\u001b[43mshell\u001b[49m\u001b[43m,\u001b[49m\n\u001b[0;32m    954\u001b[0m \u001b[43m                        \u001b[49m\u001b[43mp2cread\u001b[49m\u001b[43m,\u001b[49m\u001b[43m \u001b[49m\u001b[43mp2cwrite\u001b[49m\u001b[43m,\u001b[49m\n\u001b[0;32m    955\u001b[0m \u001b[43m                        \u001b[49m\u001b[43mc2pread\u001b[49m\u001b[43m,\u001b[49m\u001b[43m \u001b[49m\u001b[43mc2pwrite\u001b[49m\u001b[43m,\u001b[49m\n\u001b[0;32m    956\u001b[0m \u001b[43m                        \u001b[49m\u001b[43merrread\u001b[49m\u001b[43m,\u001b[49m\u001b[43m \u001b[49m\u001b[43merrwrite\u001b[49m\u001b[43m,\u001b[49m\n\u001b[0;32m    957\u001b[0m \u001b[43m                        \u001b[49m\u001b[43mrestore_signals\u001b[49m\u001b[43m,\u001b[49m\n\u001b[0;32m    958\u001b[0m \u001b[43m                        \u001b[49m\u001b[43mgid\u001b[49m\u001b[43m,\u001b[49m\u001b[43m \u001b[49m\u001b[43mgids\u001b[49m\u001b[43m,\u001b[49m\u001b[43m \u001b[49m\u001b[43muid\u001b[49m\u001b[43m,\u001b[49m\u001b[43m \u001b[49m\u001b[43mumask\u001b[49m\u001b[43m,\u001b[49m\n\u001b[0;32m    959\u001b[0m \u001b[43m                        \u001b[49m\u001b[43mstart_new_session\u001b[49m\u001b[43m)\u001b[49m\n\u001b[0;32m    960\u001b[0m \u001b[38;5;28;01mexcept\u001b[39;00m:\n\u001b[0;32m    961\u001b[0m     \u001b[38;5;66;03m# Cleanup if the child failed starting.\u001b[39;00m\n",
      "File \u001b[1;32m~\\AppData\\Local\\Programs\\Python\\Python39\\lib\\subprocess.py:1420\u001b[0m, in \u001b[0;36mPopen._execute_child\u001b[1;34m(self, args, executable, preexec_fn, close_fds, pass_fds, cwd, env, startupinfo, creationflags, shell, p2cread, p2cwrite, c2pread, c2pwrite, errread, errwrite, unused_restore_signals, unused_gid, unused_gids, unused_uid, unused_umask, unused_start_new_session)\u001b[0m\n\u001b[0;32m   1419\u001b[0m \u001b[38;5;28;01mtry\u001b[39;00m:\n\u001b[1;32m-> 1420\u001b[0m     hp, ht, pid, tid \u001b[38;5;241m=\u001b[39m \u001b[43m_winapi\u001b[49m\u001b[38;5;241;43m.\u001b[39;49m\u001b[43mCreateProcess\u001b[49m\u001b[43m(\u001b[49m\u001b[43mexecutable\u001b[49m\u001b[43m,\u001b[49m\u001b[43m \u001b[49m\u001b[43margs\u001b[49m\u001b[43m,\u001b[49m\n\u001b[0;32m   1421\u001b[0m \u001b[43m                             \u001b[49m\u001b[38;5;66;43;03m# no special security\u001b[39;49;00m\n\u001b[0;32m   1422\u001b[0m \u001b[43m                             \u001b[49m\u001b[38;5;28;43;01mNone\u001b[39;49;00m\u001b[43m,\u001b[49m\u001b[43m \u001b[49m\u001b[38;5;28;43;01mNone\u001b[39;49;00m\u001b[43m,\u001b[49m\n\u001b[0;32m   1423\u001b[0m \u001b[43m                             \u001b[49m\u001b[38;5;28;43mint\u001b[39;49m\u001b[43m(\u001b[49m\u001b[38;5;129;43;01mnot\u001b[39;49;00m\u001b[43m \u001b[49m\u001b[43mclose_fds\u001b[49m\u001b[43m)\u001b[49m\u001b[43m,\u001b[49m\n\u001b[0;32m   1424\u001b[0m \u001b[43m                             \u001b[49m\u001b[43mcreationflags\u001b[49m\u001b[43m,\u001b[49m\n\u001b[0;32m   1425\u001b[0m \u001b[43m                             \u001b[49m\u001b[43menv\u001b[49m\u001b[43m,\u001b[49m\n\u001b[0;32m   1426\u001b[0m \u001b[43m                             \u001b[49m\u001b[43mcwd\u001b[49m\u001b[43m,\u001b[49m\n\u001b[0;32m   1427\u001b[0m \u001b[43m                             \u001b[49m\u001b[43mstartupinfo\u001b[49m\u001b[43m)\u001b[49m\n\u001b[0;32m   1428\u001b[0m \u001b[38;5;28;01mfinally\u001b[39;00m:\n\u001b[0;32m   1429\u001b[0m     \u001b[38;5;66;03m# Child is launched. Close the parent's copy of those pipe\u001b[39;00m\n\u001b[0;32m   1430\u001b[0m     \u001b[38;5;66;03m# handles that only the child should have open.  You need\u001b[39;00m\n\u001b[1;32m   (...)\u001b[0m\n\u001b[0;32m   1433\u001b[0m     \u001b[38;5;66;03m# pipe will not close when the child process exits and the\u001b[39;00m\n\u001b[0;32m   1434\u001b[0m     \u001b[38;5;66;03m# ReadFile will hang.\u001b[39;00m\n",
      "\u001b[1;31mFileNotFoundError\u001b[0m: [WinError 2] The system cannot find the file specified",
      "\nThe above exception was the direct cause of the following exception:\n",
      "\u001b[1;31mExecutableNotFound\u001b[0m                        Traceback (most recent call last)",
      "File \u001b[1;32m~\\AppData\\Local\\Programs\\Python\\Python39\\lib\\site-packages\\IPython\\core\\formatters.py:974\u001b[0m, in \u001b[0;36mMimeBundleFormatter.__call__\u001b[1;34m(self, obj, include, exclude)\u001b[0m\n\u001b[0;32m    971\u001b[0m     method \u001b[38;5;241m=\u001b[39m get_real_method(obj, \u001b[38;5;28mself\u001b[39m\u001b[38;5;241m.\u001b[39mprint_method)\n\u001b[0;32m    973\u001b[0m     \u001b[38;5;28;01mif\u001b[39;00m method \u001b[38;5;129;01mis\u001b[39;00m \u001b[38;5;129;01mnot\u001b[39;00m \u001b[38;5;28;01mNone\u001b[39;00m:\n\u001b[1;32m--> 974\u001b[0m         \u001b[38;5;28;01mreturn\u001b[39;00m \u001b[43mmethod\u001b[49m\u001b[43m(\u001b[49m\u001b[43minclude\u001b[49m\u001b[38;5;241;43m=\u001b[39;49m\u001b[43minclude\u001b[49m\u001b[43m,\u001b[49m\u001b[43m \u001b[49m\u001b[43mexclude\u001b[49m\u001b[38;5;241;43m=\u001b[39;49m\u001b[43mexclude\u001b[49m\u001b[43m)\u001b[49m\n\u001b[0;32m    975\u001b[0m     \u001b[38;5;28;01mreturn\u001b[39;00m \u001b[38;5;28;01mNone\u001b[39;00m\n\u001b[0;32m    976\u001b[0m \u001b[38;5;28;01melse\u001b[39;00m:\n",
      "File \u001b[1;32m~\\AppData\\Local\\Programs\\Python\\Python39\\lib\\site-packages\\graphviz\\jupyter_integration.py:98\u001b[0m, in \u001b[0;36mJupyterIntegration._repr_mimebundle_\u001b[1;34m(self, include, exclude, **_)\u001b[0m\n\u001b[0;32m     96\u001b[0m include \u001b[38;5;241m=\u001b[39m \u001b[38;5;28mset\u001b[39m(include) \u001b[38;5;28;01mif\u001b[39;00m include \u001b[38;5;129;01mis\u001b[39;00m \u001b[38;5;129;01mnot\u001b[39;00m \u001b[38;5;28;01mNone\u001b[39;00m \u001b[38;5;28;01melse\u001b[39;00m {\u001b[38;5;28mself\u001b[39m\u001b[38;5;241m.\u001b[39m_jupyter_mimetype}\n\u001b[0;32m     97\u001b[0m include \u001b[38;5;241m-\u001b[39m\u001b[38;5;241m=\u001b[39m \u001b[38;5;28mset\u001b[39m(exclude \u001b[38;5;129;01mor\u001b[39;00m [])\n\u001b[1;32m---> 98\u001b[0m \u001b[38;5;28;01mreturn\u001b[39;00m {mimetype: \u001b[38;5;28mgetattr\u001b[39m(\u001b[38;5;28mself\u001b[39m, method_name)()\n\u001b[0;32m     99\u001b[0m         \u001b[38;5;28;01mfor\u001b[39;00m mimetype, method_name \u001b[38;5;129;01min\u001b[39;00m MIME_TYPES\u001b[38;5;241m.\u001b[39mitems()\n\u001b[0;32m    100\u001b[0m         \u001b[38;5;28;01mif\u001b[39;00m mimetype \u001b[38;5;129;01min\u001b[39;00m include}\n",
      "File \u001b[1;32m~\\AppData\\Local\\Programs\\Python\\Python39\\lib\\site-packages\\graphviz\\jupyter_integration.py:98\u001b[0m, in \u001b[0;36m<dictcomp>\u001b[1;34m(.0)\u001b[0m\n\u001b[0;32m     96\u001b[0m include \u001b[38;5;241m=\u001b[39m \u001b[38;5;28mset\u001b[39m(include) \u001b[38;5;28;01mif\u001b[39;00m include \u001b[38;5;129;01mis\u001b[39;00m \u001b[38;5;129;01mnot\u001b[39;00m \u001b[38;5;28;01mNone\u001b[39;00m \u001b[38;5;28;01melse\u001b[39;00m {\u001b[38;5;28mself\u001b[39m\u001b[38;5;241m.\u001b[39m_jupyter_mimetype}\n\u001b[0;32m     97\u001b[0m include \u001b[38;5;241m-\u001b[39m\u001b[38;5;241m=\u001b[39m \u001b[38;5;28mset\u001b[39m(exclude \u001b[38;5;129;01mor\u001b[39;00m [])\n\u001b[1;32m---> 98\u001b[0m \u001b[38;5;28;01mreturn\u001b[39;00m {mimetype: \u001b[38;5;28;43mgetattr\u001b[39;49m\u001b[43m(\u001b[49m\u001b[38;5;28;43mself\u001b[39;49m\u001b[43m,\u001b[49m\u001b[43m \u001b[49m\u001b[43mmethod_name\u001b[49m\u001b[43m)\u001b[49m\u001b[43m(\u001b[49m\u001b[43m)\u001b[49m\n\u001b[0;32m     99\u001b[0m         \u001b[38;5;28;01mfor\u001b[39;00m mimetype, method_name \u001b[38;5;129;01min\u001b[39;00m MIME_TYPES\u001b[38;5;241m.\u001b[39mitems()\n\u001b[0;32m    100\u001b[0m         \u001b[38;5;28;01mif\u001b[39;00m mimetype \u001b[38;5;129;01min\u001b[39;00m include}\n",
      "File \u001b[1;32m~\\AppData\\Local\\Programs\\Python\\Python39\\lib\\site-packages\\graphviz\\jupyter_integration.py:112\u001b[0m, in \u001b[0;36mJupyterIntegration._repr_image_svg_xml\u001b[1;34m(self)\u001b[0m\n\u001b[0;32m    110\u001b[0m \u001b[38;5;28;01mdef\u001b[39;00m \u001b[38;5;21m_repr_image_svg_xml\u001b[39m(\u001b[38;5;28mself\u001b[39m) \u001b[38;5;241m-\u001b[39m\u001b[38;5;241m>\u001b[39m \u001b[38;5;28mstr\u001b[39m:\n\u001b[0;32m    111\u001b[0m \u001b[38;5;250m    \u001b[39m\u001b[38;5;124;03m\"\"\"Return the rendered graph as SVG string.\"\"\"\u001b[39;00m\n\u001b[1;32m--> 112\u001b[0m     \u001b[38;5;28;01mreturn\u001b[39;00m \u001b[38;5;28;43mself\u001b[39;49m\u001b[38;5;241;43m.\u001b[39;49m\u001b[43mpipe\u001b[49m\u001b[43m(\u001b[49m\u001b[38;5;28;43mformat\u001b[39;49m\u001b[38;5;241;43m=\u001b[39;49m\u001b[38;5;124;43m'\u001b[39;49m\u001b[38;5;124;43msvg\u001b[39;49m\u001b[38;5;124;43m'\u001b[39;49m\u001b[43m,\u001b[49m\u001b[43m \u001b[49m\u001b[43mencoding\u001b[49m\u001b[38;5;241;43m=\u001b[39;49m\u001b[43mSVG_ENCODING\u001b[49m\u001b[43m)\u001b[49m\n",
      "File \u001b[1;32m~\\AppData\\Local\\Programs\\Python\\Python39\\lib\\site-packages\\graphviz\\piping.py:104\u001b[0m, in \u001b[0;36mPipe.pipe\u001b[1;34m(self, format, renderer, formatter, neato_no_op, quiet, engine, encoding)\u001b[0m\n\u001b[0;32m     55\u001b[0m \u001b[38;5;28;01mdef\u001b[39;00m \u001b[38;5;21mpipe\u001b[39m(\u001b[38;5;28mself\u001b[39m,\n\u001b[0;32m     56\u001b[0m          \u001b[38;5;28mformat\u001b[39m: typing\u001b[38;5;241m.\u001b[39mOptional[\u001b[38;5;28mstr\u001b[39m] \u001b[38;5;241m=\u001b[39m \u001b[38;5;28;01mNone\u001b[39;00m,\n\u001b[0;32m     57\u001b[0m          renderer: typing\u001b[38;5;241m.\u001b[39mOptional[\u001b[38;5;28mstr\u001b[39m] \u001b[38;5;241m=\u001b[39m \u001b[38;5;28;01mNone\u001b[39;00m,\n\u001b[1;32m   (...)\u001b[0m\n\u001b[0;32m     61\u001b[0m          engine: typing\u001b[38;5;241m.\u001b[39mOptional[\u001b[38;5;28mstr\u001b[39m] \u001b[38;5;241m=\u001b[39m \u001b[38;5;28;01mNone\u001b[39;00m,\n\u001b[0;32m     62\u001b[0m          encoding: typing\u001b[38;5;241m.\u001b[39mOptional[\u001b[38;5;28mstr\u001b[39m] \u001b[38;5;241m=\u001b[39m \u001b[38;5;28;01mNone\u001b[39;00m) \u001b[38;5;241m-\u001b[39m\u001b[38;5;241m>\u001b[39m typing\u001b[38;5;241m.\u001b[39mUnion[\u001b[38;5;28mbytes\u001b[39m, \u001b[38;5;28mstr\u001b[39m]:\n\u001b[0;32m     63\u001b[0m \u001b[38;5;250m    \u001b[39m\u001b[38;5;124;03m\"\"\"Return the source piped through the Graphviz layout command.\u001b[39;00m\n\u001b[0;32m     64\u001b[0m \n\u001b[0;32m     65\u001b[0m \u001b[38;5;124;03m    Args:\u001b[39;00m\n\u001b[1;32m   (...)\u001b[0m\n\u001b[0;32m    102\u001b[0m \u001b[38;5;124;03m        '<?xml version='\u001b[39;00m\n\u001b[0;32m    103\u001b[0m \u001b[38;5;124;03m    \"\"\"\u001b[39;00m\n\u001b[1;32m--> 104\u001b[0m     \u001b[38;5;28;01mreturn\u001b[39;00m \u001b[38;5;28;43mself\u001b[39;49m\u001b[38;5;241;43m.\u001b[39;49m\u001b[43m_pipe_legacy\u001b[49m\u001b[43m(\u001b[49m\u001b[38;5;28;43mformat\u001b[39;49m\u001b[43m,\u001b[49m\n\u001b[0;32m    105\u001b[0m \u001b[43m                             \u001b[49m\u001b[43mrenderer\u001b[49m\u001b[38;5;241;43m=\u001b[39;49m\u001b[43mrenderer\u001b[49m\u001b[43m,\u001b[49m\n\u001b[0;32m    106\u001b[0m \u001b[43m                             \u001b[49m\u001b[43mformatter\u001b[49m\u001b[38;5;241;43m=\u001b[39;49m\u001b[43mformatter\u001b[49m\u001b[43m,\u001b[49m\n\u001b[0;32m    107\u001b[0m \u001b[43m                             \u001b[49m\u001b[43mneato_no_op\u001b[49m\u001b[38;5;241;43m=\u001b[39;49m\u001b[43mneato_no_op\u001b[49m\u001b[43m,\u001b[49m\n\u001b[0;32m    108\u001b[0m \u001b[43m                             \u001b[49m\u001b[43mquiet\u001b[49m\u001b[38;5;241;43m=\u001b[39;49m\u001b[43mquiet\u001b[49m\u001b[43m,\u001b[49m\n\u001b[0;32m    109\u001b[0m \u001b[43m                             \u001b[49m\u001b[43mengine\u001b[49m\u001b[38;5;241;43m=\u001b[39;49m\u001b[43mengine\u001b[49m\u001b[43m,\u001b[49m\n\u001b[0;32m    110\u001b[0m \u001b[43m                             \u001b[49m\u001b[43mencoding\u001b[49m\u001b[38;5;241;43m=\u001b[39;49m\u001b[43mencoding\u001b[49m\u001b[43m)\u001b[49m\n",
      "File \u001b[1;32m~\\AppData\\Local\\Programs\\Python\\Python39\\lib\\site-packages\\graphviz\\_tools.py:171\u001b[0m, in \u001b[0;36mdeprecate_positional_args.<locals>.decorator.<locals>.wrapper\u001b[1;34m(*args, **kwargs)\u001b[0m\n\u001b[0;32m    162\u001b[0m     wanted \u001b[38;5;241m=\u001b[39m \u001b[38;5;124m'\u001b[39m\u001b[38;5;124m, \u001b[39m\u001b[38;5;124m'\u001b[39m\u001b[38;5;241m.\u001b[39mjoin(\u001b[38;5;124mf\u001b[39m\u001b[38;5;124m'\u001b[39m\u001b[38;5;132;01m{\u001b[39;00mname\u001b[38;5;132;01m}\u001b[39;00m\u001b[38;5;124m=\u001b[39m\u001b[38;5;132;01m{\u001b[39;00mvalue\u001b[38;5;132;01m!r}\u001b[39;00m\u001b[38;5;124m'\u001b[39m\n\u001b[0;32m    163\u001b[0m                        \u001b[38;5;28;01mfor\u001b[39;00m name, value \u001b[38;5;129;01min\u001b[39;00m deprecated\u001b[38;5;241m.\u001b[39mitems())\n\u001b[0;32m    164\u001b[0m     warnings\u001b[38;5;241m.\u001b[39mwarn(\u001b[38;5;124mf\u001b[39m\u001b[38;5;124m'\u001b[39m\u001b[38;5;124mThe signature of \u001b[39m\u001b[38;5;132;01m{\u001b[39;00mfunc\u001b[38;5;241m.\u001b[39m\u001b[38;5;18m__name__\u001b[39m\u001b[38;5;132;01m}\u001b[39;00m\u001b[38;5;124m will be reduced\u001b[39m\u001b[38;5;124m'\u001b[39m\n\u001b[0;32m    165\u001b[0m                   \u001b[38;5;124mf\u001b[39m\u001b[38;5;124m'\u001b[39m\u001b[38;5;124m to \u001b[39m\u001b[38;5;132;01m{\u001b[39;00msupported_number\u001b[38;5;132;01m}\u001b[39;00m\u001b[38;5;124m positional args\u001b[39m\u001b[38;5;124m'\u001b[39m\n\u001b[0;32m    166\u001b[0m                   \u001b[38;5;124mf\u001b[39m\u001b[38;5;124m'\u001b[39m\u001b[38;5;124m \u001b[39m\u001b[38;5;132;01m{\u001b[39;00m\u001b[38;5;28mlist\u001b[39m(supported)\u001b[38;5;132;01m}\u001b[39;00m\u001b[38;5;124m: pass \u001b[39m\u001b[38;5;132;01m{\u001b[39;00mwanted\u001b[38;5;132;01m}\u001b[39;00m\u001b[38;5;124m'\u001b[39m\n\u001b[0;32m    167\u001b[0m                   \u001b[38;5;124m'\u001b[39m\u001b[38;5;124m as keyword arg(s)\u001b[39m\u001b[38;5;124m'\u001b[39m,\n\u001b[0;32m    168\u001b[0m                   stacklevel\u001b[38;5;241m=\u001b[39mstacklevel,\n\u001b[0;32m    169\u001b[0m                   category\u001b[38;5;241m=\u001b[39mcategory)\n\u001b[1;32m--> 171\u001b[0m \u001b[38;5;28;01mreturn\u001b[39;00m func(\u001b[38;5;241m*\u001b[39margs, \u001b[38;5;241m*\u001b[39m\u001b[38;5;241m*\u001b[39mkwargs)\n",
      "File \u001b[1;32m~\\AppData\\Local\\Programs\\Python\\Python39\\lib\\site-packages\\graphviz\\piping.py:121\u001b[0m, in \u001b[0;36mPipe._pipe_legacy\u001b[1;34m(self, format, renderer, formatter, neato_no_op, quiet, engine, encoding)\u001b[0m\n\u001b[0;32m    112\u001b[0m \u001b[38;5;129m@_tools\u001b[39m\u001b[38;5;241m.\u001b[39mdeprecate_positional_args(supported_number\u001b[38;5;241m=\u001b[39m\u001b[38;5;241m2\u001b[39m)\n\u001b[0;32m    113\u001b[0m \u001b[38;5;28;01mdef\u001b[39;00m \u001b[38;5;21m_pipe_legacy\u001b[39m(\u001b[38;5;28mself\u001b[39m,\n\u001b[0;32m    114\u001b[0m                  \u001b[38;5;28mformat\u001b[39m: typing\u001b[38;5;241m.\u001b[39mOptional[\u001b[38;5;28mstr\u001b[39m] \u001b[38;5;241m=\u001b[39m \u001b[38;5;28;01mNone\u001b[39;00m,\n\u001b[1;32m   (...)\u001b[0m\n\u001b[0;32m    119\u001b[0m                  engine: typing\u001b[38;5;241m.\u001b[39mOptional[\u001b[38;5;28mstr\u001b[39m] \u001b[38;5;241m=\u001b[39m \u001b[38;5;28;01mNone\u001b[39;00m,\n\u001b[0;32m    120\u001b[0m                  encoding: typing\u001b[38;5;241m.\u001b[39mOptional[\u001b[38;5;28mstr\u001b[39m] \u001b[38;5;241m=\u001b[39m \u001b[38;5;28;01mNone\u001b[39;00m) \u001b[38;5;241m-\u001b[39m\u001b[38;5;241m>\u001b[39m typing\u001b[38;5;241m.\u001b[39mUnion[\u001b[38;5;28mbytes\u001b[39m, \u001b[38;5;28mstr\u001b[39m]:\n\u001b[1;32m--> 121\u001b[0m     \u001b[38;5;28;01mreturn\u001b[39;00m \u001b[38;5;28;43mself\u001b[39;49m\u001b[38;5;241;43m.\u001b[39;49m\u001b[43m_pipe_future\u001b[49m\u001b[43m(\u001b[49m\u001b[38;5;28;43mformat\u001b[39;49m\u001b[43m,\u001b[49m\n\u001b[0;32m    122\u001b[0m \u001b[43m                             \u001b[49m\u001b[43mrenderer\u001b[49m\u001b[38;5;241;43m=\u001b[39;49m\u001b[43mrenderer\u001b[49m\u001b[43m,\u001b[49m\n\u001b[0;32m    123\u001b[0m \u001b[43m                             \u001b[49m\u001b[43mformatter\u001b[49m\u001b[38;5;241;43m=\u001b[39;49m\u001b[43mformatter\u001b[49m\u001b[43m,\u001b[49m\n\u001b[0;32m    124\u001b[0m \u001b[43m                             \u001b[49m\u001b[43mneato_no_op\u001b[49m\u001b[38;5;241;43m=\u001b[39;49m\u001b[43mneato_no_op\u001b[49m\u001b[43m,\u001b[49m\n\u001b[0;32m    125\u001b[0m \u001b[43m                             \u001b[49m\u001b[43mquiet\u001b[49m\u001b[38;5;241;43m=\u001b[39;49m\u001b[43mquiet\u001b[49m\u001b[43m,\u001b[49m\n\u001b[0;32m    126\u001b[0m \u001b[43m                             \u001b[49m\u001b[43mengine\u001b[49m\u001b[38;5;241;43m=\u001b[39;49m\u001b[43mengine\u001b[49m\u001b[43m,\u001b[49m\n\u001b[0;32m    127\u001b[0m \u001b[43m                             \u001b[49m\u001b[43mencoding\u001b[49m\u001b[38;5;241;43m=\u001b[39;49m\u001b[43mencoding\u001b[49m\u001b[43m)\u001b[49m\n",
      "File \u001b[1;32m~\\AppData\\Local\\Programs\\Python\\Python39\\lib\\site-packages\\graphviz\\piping.py:149\u001b[0m, in \u001b[0;36mPipe._pipe_future\u001b[1;34m(self, format, renderer, formatter, neato_no_op, quiet, engine, encoding)\u001b[0m\n\u001b[0;32m    146\u001b[0m \u001b[38;5;28;01mif\u001b[39;00m encoding \u001b[38;5;129;01mis\u001b[39;00m \u001b[38;5;129;01mnot\u001b[39;00m \u001b[38;5;28;01mNone\u001b[39;00m:\n\u001b[0;32m    147\u001b[0m     \u001b[38;5;28;01mif\u001b[39;00m codecs\u001b[38;5;241m.\u001b[39mlookup(encoding) \u001b[38;5;129;01mis\u001b[39;00m codecs\u001b[38;5;241m.\u001b[39mlookup(\u001b[38;5;28mself\u001b[39m\u001b[38;5;241m.\u001b[39mencoding):\n\u001b[0;32m    148\u001b[0m         \u001b[38;5;66;03m# common case: both stdin and stdout need the same encoding\u001b[39;00m\n\u001b[1;32m--> 149\u001b[0m         \u001b[38;5;28;01mreturn\u001b[39;00m \u001b[38;5;28mself\u001b[39m\u001b[38;5;241m.\u001b[39m_pipe_lines_string(\u001b[38;5;241m*\u001b[39margs, encoding\u001b[38;5;241m=\u001b[39mencoding, \u001b[38;5;241m*\u001b[39m\u001b[38;5;241m*\u001b[39mkwargs)\n\u001b[0;32m    150\u001b[0m     \u001b[38;5;28;01mtry\u001b[39;00m:\n\u001b[0;32m    151\u001b[0m         raw \u001b[38;5;241m=\u001b[39m \u001b[38;5;28mself\u001b[39m\u001b[38;5;241m.\u001b[39m_pipe_lines(\u001b[38;5;241m*\u001b[39margs, input_encoding\u001b[38;5;241m=\u001b[39m\u001b[38;5;28mself\u001b[39m\u001b[38;5;241m.\u001b[39mencoding, \u001b[38;5;241m*\u001b[39m\u001b[38;5;241m*\u001b[39mkwargs)\n",
      "File \u001b[1;32m~\\AppData\\Local\\Programs\\Python\\Python39\\lib\\site-packages\\graphviz\\backend\\piping.py:212\u001b[0m, in \u001b[0;36mpipe_lines_string\u001b[1;34m(engine, format, input_lines, encoding, renderer, formatter, neato_no_op, quiet)\u001b[0m\n\u001b[0;32m    206\u001b[0m cmd \u001b[38;5;241m=\u001b[39m dot_command\u001b[38;5;241m.\u001b[39mcommand(engine, \u001b[38;5;28mformat\u001b[39m,\n\u001b[0;32m    207\u001b[0m                           renderer\u001b[38;5;241m=\u001b[39mrenderer,\n\u001b[0;32m    208\u001b[0m                           formatter\u001b[38;5;241m=\u001b[39mformatter,\n\u001b[0;32m    209\u001b[0m                           neato_no_op\u001b[38;5;241m=\u001b[39mneato_no_op)\n\u001b[0;32m    210\u001b[0m kwargs \u001b[38;5;241m=\u001b[39m {\u001b[38;5;124m'\u001b[39m\u001b[38;5;124minput_lines\u001b[39m\u001b[38;5;124m'\u001b[39m: input_lines, \u001b[38;5;124m'\u001b[39m\u001b[38;5;124mencoding\u001b[39m\u001b[38;5;124m'\u001b[39m: encoding}\n\u001b[1;32m--> 212\u001b[0m proc \u001b[38;5;241m=\u001b[39m execute\u001b[38;5;241m.\u001b[39mrun_check(cmd, capture_output\u001b[38;5;241m=\u001b[39m\u001b[38;5;28;01mTrue\u001b[39;00m, quiet\u001b[38;5;241m=\u001b[39mquiet, \u001b[38;5;241m*\u001b[39m\u001b[38;5;241m*\u001b[39mkwargs)\n\u001b[0;32m    213\u001b[0m \u001b[38;5;28;01mreturn\u001b[39;00m proc\u001b[38;5;241m.\u001b[39mstdout\n",
      "File \u001b[1;32m~\\AppData\\Local\\Programs\\Python\\Python39\\lib\\site-packages\\graphviz\\backend\\execute.py:84\u001b[0m, in \u001b[0;36mrun_check\u001b[1;34m(cmd, input_lines, encoding, quiet, **kwargs)\u001b[0m\n\u001b[0;32m     82\u001b[0m \u001b[38;5;28;01mexcept\u001b[39;00m \u001b[38;5;167;01mOSError\u001b[39;00m \u001b[38;5;28;01mas\u001b[39;00m e:\n\u001b[0;32m     83\u001b[0m     \u001b[38;5;28;01mif\u001b[39;00m e\u001b[38;5;241m.\u001b[39merrno \u001b[38;5;241m==\u001b[39m errno\u001b[38;5;241m.\u001b[39mENOENT:\n\u001b[1;32m---> 84\u001b[0m         \u001b[38;5;28;01mraise\u001b[39;00m ExecutableNotFound(cmd) \u001b[38;5;28;01mfrom\u001b[39;00m \u001b[38;5;21;01me\u001b[39;00m\n\u001b[0;32m     85\u001b[0m     \u001b[38;5;28;01mraise\u001b[39;00m\n\u001b[0;32m     87\u001b[0m \u001b[38;5;28;01mif\u001b[39;00m \u001b[38;5;129;01mnot\u001b[39;00m quiet \u001b[38;5;129;01mand\u001b[39;00m proc\u001b[38;5;241m.\u001b[39mstderr:\n",
      "\u001b[1;31mExecutableNotFound\u001b[0m: failed to execute WindowsPath('dot'), make sure the Graphviz executables are on your systems' PATH"
     ]
    },
    {
     "data": {
      "text/plain": [
       "<graphviz.graphs.Digraph at 0x1c8640e42b0>"
      ]
     },
     "execution_count": 17,
     "metadata": {},
     "output_type": "execute_result"
    }
   ],
   "source": [
    "# Exemple d'utilisation: \n",
    "un_noeud0= NoeudCategoriel() \n",
    "un_noeud0.ajoute_feuille(-1)\n",
    "\n",
    "un_noeud1= NoeudCategoriel()\n",
    "un_noeud1.ajoute_feuille(+1)\n",
    "\n",
    "un_noeud2= NoeudCategoriel(42,\"nom2\")\n",
    "un_noeud2.ajoute_fils(\"val1\",un_noeud0)\n",
    "un_noeud2.ajoute_fils(\"val2\",un_noeud1)\n",
    "\n",
    "un_noeud3 = NoeudCategoriel(11,\"nom3\")\n",
    "un_noeud3.ajoute_fils(\"val3\",un_noeud2)\n",
    "\n",
    "un_noeud4= NoeudCategoriel() \n",
    "un_noeud4.ajoute_feuille(1)\n",
    "un_noeud3.ajoute_fils(\"val4\",un_noeud4)\n",
    "\n",
    "# L'affichage se fait en 2 temps\n",
    "# 1) on initialise un graphe orienté :\n",
    "gtree = gv.Digraph(format='png')\n",
    "# 2) on le rempli en appelant la méthode de la classe NoeudCategoriel\n",
    "un_noeud3.to_graph(gtree)"
   ]
  },
  {
   "cell_type": "markdown",
   "metadata": {},
   "source": [
    "### Construction de l'arbre de décision"
   ]
  },
  {
   "cell_type": "markdown",
   "metadata": {},
   "source": [
    "<div class=\"alert alert-block alert-warning\">\n",
    "Comme on l'a vu dans le cours, pour construire un arbre de décision à partir d'un dataset ($X$, $Y$), il faut réaliser les étapes suivantes:\n",
    "    \n",
    "1. calculer l'entropie de Shannon de l'ensemble des classes $Y$, on la note $H_S(Y)$.\n",
    "    \n",
    "2. si $H_S(Y)$ est inférieure à epsilon (qui est un réel positif donné en paramètre de l'algorithme), alors construire une feuille avec cet ensemble, la classe associée à cette feuille est la classe majoritaire dans $Y$.\n",
    "    \n",
    "3. sinon, pour chaque attribut $X_j$ qui décrit les exemples de $X$,\n",
    "    \n",
    "    3.1. pour chacune des valeurs $v_{jl}$ de $X_j$ construire l'ensemble des exemples de $X$ qui possède la valeur $v_{jl}$ ainsi que l'ensemble de leurs labels.\n",
    "    \n",
    "    3.2. calculer l'entropie conditionnelle de Shannon de la classe relativement à l'attribut $X_j$. On note $H_S(Y|X_j)$ cette entropie    \n",
    "    \n",
    "4. l'attribut $X_{best}$ qui **maximise le gain d'information** est choisi pour constituer un nouveau noeud $\\eta$ de l'arbre de décision:\n",
    "    \n",
    "    4.1. chaque valeur de $X_{best}$ est utilisée pour décomposer ($X$, $Y$) en autant de datasets que $X_{best}$ possède de valeurs: chaque dataset est séparant $X$ et $Y$ selon la valeur prise pour $X_{best}$. \n",
    "    \n",
    "    4.2. pour chaque dataset obtenu on reprend en 1 pour construire chacun des fils de $\\eta$. \n",
    "\n",
    "\n",
    "On rappelle que le gain d'information est:\n",
    "\n",
    "$$I_S(X_j,Y) = H_S(Y) - H_S(Y|X_j)$$\n",
    "\n",
    "**Remarque**: si le gain d'information est nul pour tous les attributs, alors on arrête la décomposition et on construit une feuille avec cet ensemble en donnant la classe majoritaire comme étiquette à cette feuille.\n",
    "</div>"
   ]
  },
  {
   "cell_type": "markdown",
   "metadata": {},
   "source": [
    "<font color=\"RED\" size=\"+1\">**[Q]**</font> Compléter la fonction `construit_AD`suivante afin qu'elle permette de construire un arbre de décision. Cette fonction rend un `NoeudCategoriel` qui correspond à l'arbre construit pour le dataset $(X,Y)$ donné."
   ]
  },
  {
   "cell_type": "code",
   "execution_count": 17,
   "metadata": {},
   "outputs": [],
   "source": [
    "def construit_AD(X,Y,epsilon,LNoms = []):\n",
    "    \"\"\" X,Y : dataset\n",
    "        epsilon : seuil d'entropie pour le critère d'arrêt \n",
    "        LNoms : liste des noms de features (colonnes) de description \n",
    "    \"\"\"\n",
    "    \n",
    "    entropie_ens = entropie(Y)\n",
    "    if (entropie_ens <= epsilon):\n",
    "        # ARRET : on crée une feuille\n",
    "        noeud = NoeudCategoriel(-1,\"Label\")\n",
    "        noeud.ajoute_feuille(classe_majoritaire(Y))\n",
    "    else:\n",
    "        min_entropie = 1.1\n",
    "        i_best = -1\n",
    "        Xbest_valeurs = None\n",
    "        \n",
    "        #############\n",
    "        \n",
    "        # COMPLETER CETTE PARTIE : ELLE DOIT PERMETTRE D'OBTENIR DANS\n",
    "        # i_best : le numéro de l'attribut qui minimise l'entropie\n",
    "        # min_entropie : la valeur de l'entropie minimale\n",
    "        # Xbest_valeurs : la liste des valeurs que peut prendre l'attribut i_best\n",
    "        #\n",
    "        # Il est donc nécessaire ici de parcourir tous les attributs et de calculer\n",
    "        # la valeur de l'entropie de la classe pour chaque attribut.\n",
    "\n",
    "        for i in range(X.shape[1]): # Parcours de tous les attributs\n",
    "            entropie_attr = 0\n",
    "            valeurs_attr = np.unique(X[:,i])\n",
    "            for v in valeurs_attr:\n",
    "                index_v = np.where(X[:,i] == v)\n",
    "                entropie_attr += len(index_v[0])/len(Y) * entropie(Y[index_v])\n",
    "            gain_info = entropie_ens - entropie_attr\n",
    "            if gain_info < min_entropie:\n",
    "                min_entropie = gain_info\n",
    "                i_best = i\n",
    "                Xbest_valeurs = valeurs_attr\n",
    "        \n",
    "        \n",
    "        #############################################\n",
    "\n",
    "        if (entropie_ens - min_entropie) == 0: # pas de gain d'information possible\n",
    "            # ARRET : on crée une feuille\n",
    "            noeud = NoeudCategoriel(-1,\"Label\")\n",
    "            noeud.ajoute_feuille(classe_majoritaire(Y))\n",
    "            \n",
    "        if len(LNoms)>0:  # si on a des noms de features\n",
    "            noeud = NoeudCategoriel(i_best,LNoms[i_best])    \n",
    "        else:\n",
    "            noeud = NoeudCategoriel(i_best)\n",
    "        for v in Xbest_valeurs:\n",
    "            noeud.ajoute_fils(v,construit_AD(X[X[:,i_best]==v], Y[X[:,i_best]==v],epsilon,LNoms))\n",
    "    return noeud"
   ]
  },
  {
   "cell_type": "markdown",
   "metadata": {},
   "source": [
    "La classe pour implémenter un arbre de décision dérive de la classe `Classifier`. Elle utilise la fonction `construit_AD` dans sa méthode `train` pour construire un arbre à partir d'un dataset donné.\n",
    "\n",
    "<font color=\"RED\" size=\"+1\">**[Q]**</font> Compléter la classe suivante en donnant le code des méthodes `train` et `predict`.\n",
    "\n",
    "**Remarque :** la méthode `score` ne fera rien dans notre cas, on verra dans un autre notebook comment on pourrait la définir."
   ]
  },
  {
   "cell_type": "code",
   "execution_count": null,
   "metadata": {},
   "outputs": [],
   "source": [
    "class ClassifierArbreDecision(classif.Classifier):\n",
    "    \"\"\" Classe pour représenter un classifieur par arbre de décision\n",
    "    \"\"\"\n",
    "    \n",
    "    def __init__(self, input_dimension, epsilon, LNoms=[]):\n",
    "        \"\"\" Constructeur\n",
    "            Argument:\n",
    "                - intput_dimension (int) : dimension de la description des exemples\n",
    "                - epsilon (float) : paramètre de l'algorithme (cf. explications précédentes)\n",
    "                - LNoms : Liste des noms de dimensions (si connues)\n",
    "            Hypothèse : input_dimension > 0\n",
    "        \"\"\"\n",
    "        self.dimension = input_dimension\n",
    "        self.epsilon = epsilon\n",
    "        self.LNoms = LNoms\n",
    "        # l'arbre est manipulé par sa racine qui sera un Noeud\n",
    "        self.racine = None\n",
    "        \n",
    "    def toString(self):\n",
    "        \"\"\"  -> str\n",
    "            rend le nom du classifieur avec ses paramètres\n",
    "        \"\"\"\n",
    "        return 'ClassifierArbreDecision ['+str(self.dimension) + '] eps='+str(self.epsilon)\n",
    "        \n",
    "    def train(self, desc_set, label_set):\n",
    "        \"\"\" Permet d'entrainer le modele sur l'ensemble donné\n",
    "            desc_set: ndarray avec des descriptions\n",
    "            label_set: ndarray avec les labels correspondants\n",
    "            Hypothèse: desc_set et label_set ont le même nombre de lignes\n",
    "        \"\"\"        \n",
    "        ##################\n",
    "        ## COMPLETER ICI !\n",
    "        ##################\n",
    "    \n",
    "    def score(self,x):\n",
    "        \"\"\" rend le score de prédiction sur x (valeur réelle)\n",
    "            x: une description\n",
    "        \"\"\"\n",
    "        # cette méthode ne fait rien dans notre implémentation :\n",
    "        self.racine = construit_AD(desc_set, label_set, self.epsilon, self.LNoms)\n",
    "        pass\n",
    "    \n",
    "    def predict(self, x):\n",
    "        \"\"\" x (array): une description d'exemple\n",
    "            rend la prediction sur x             \n",
    "        \"\"\"\n",
    "        ##################\n",
    "        ## COMPLETER ICI !\n",
    "        ##################\n",
    "        noeud = self.racine\n",
    "        while not noeud.est_feuille():\n",
    "            valeur = x[noeud.dimension]\n",
    "            fils = noeud.get_fils(valeur)\n",
    "            noeud = fils\n",
    "        return noeud.classe_majoritaire()\n",
    "\n",
    "    def number_leaves(self):\n",
    "        \"\"\" rend le nombre de feuilles de l'arbre\n",
    "        \"\"\"\n",
    "        return self.racine.compte_feuilles()\n",
    "    \n",
    "    def draw(self,GTree):\n",
    "        \"\"\" affichage de l'arbre sous forme graphique\n",
    "            Cette fonction modifie GTree par effet de bord\n",
    "        \"\"\"\n",
    "        self.racine.to_graph(GTree)"
   ]
  },
  {
   "cell_type": "markdown",
   "metadata": {},
   "source": [
    "### Premières expérimentations"
   ]
  },
  {
   "cell_type": "markdown",
   "metadata": {},
   "source": [
    "Apprentissage d'un arbre de décision avec la base sur les élections :"
   ]
  },
  {
   "cell_type": "code",
   "execution_count": 19,
   "metadata": {},
   "outputs": [
    {
     "data": {
      "image/svg+xml": [
       "<?xml version=\"1.0\" encoding=\"UTF-8\" standalone=\"no\"?>\n",
       "<!DOCTYPE svg PUBLIC \"-//W3C//DTD SVG 1.1//EN\"\n",
       " \"http://www.w3.org/Graphics/SVG/1.1/DTD/svg11.dtd\">\n",
       "<!-- Generated by graphviz version 2.43.0 (0)\n",
       " -->\n",
       "<!-- Title: %3 Pages: 1 -->\n",
       "<svg width=\"229pt\" height=\"218pt\"\n",
       " viewBox=\"0.00 0.00 229.00 218.00\" xmlns=\"http://www.w3.org/2000/svg\" xmlns:xlink=\"http://www.w3.org/1999/xlink\">\n",
       "<g id=\"graph0\" class=\"graph\" transform=\"scale(1 1) rotate(0) translate(4 214)\">\n",
       "<title>%3</title>\n",
       "<polygon fill=\"white\" stroke=\"transparent\" points=\"-4,4 -4,-214 225,-214 225,4 -4,4\"/>\n",
       "<!-- A -->\n",
       "<g id=\"node1\" class=\"node\">\n",
       "<title>A</title>\n",
       "<ellipse fill=\"none\" stroke=\"black\" cx=\"49\" cy=\"-192\" rx=\"40.09\" ry=\"18\"/>\n",
       "<text text-anchor=\"middle\" x=\"49\" y=\"-188.3\" font-family=\"Times,serif\" font-size=\"14.00\">Majeur?</text>\n",
       "</g>\n",
       "<!-- A0 -->\n",
       "<g id=\"node2\" class=\"node\">\n",
       "<title>A0</title>\n",
       "<polygon fill=\"none\" stroke=\"black\" points=\"54,-123 0,-123 0,-87 54,-87 54,-123\"/>\n",
       "<text text-anchor=\"middle\" x=\"27\" y=\"-101.3\" font-family=\"Times,serif\" font-size=\"14.00\">&#45;1</text>\n",
       "</g>\n",
       "<!-- A&#45;&gt;A0 -->\n",
       "<g id=\"edge1\" class=\"edge\">\n",
       "<title>A&#45;&gt;A0</title>\n",
       "<path fill=\"none\" stroke=\"black\" d=\"M44.55,-173.8C41.54,-162.16 37.49,-146.55 34.05,-133.24\"/>\n",
       "<polygon fill=\"black\" stroke=\"black\" points=\"37.34,-131.98 31.45,-123.18 30.56,-133.73 37.34,-131.98\"/>\n",
       "<text text-anchor=\"middle\" x=\"50.5\" y=\"-144.8\" font-family=\"Times,serif\" font-size=\"14.00\">non</text>\n",
       "</g>\n",
       "<!-- A1 -->\n",
       "<g id=\"node3\" class=\"node\">\n",
       "<title>A1</title>\n",
       "<ellipse fill=\"none\" stroke=\"black\" cx=\"122\" cy=\"-105\" rx=\"50.09\" ry=\"18\"/>\n",
       "<text text-anchor=\"middle\" x=\"122\" y=\"-101.3\" font-family=\"Times,serif\" font-size=\"14.00\">Nationalite</text>\n",
       "</g>\n",
       "<!-- A&#45;&gt;A1 -->\n",
       "<g id=\"edge5\" class=\"edge\">\n",
       "<title>A&#45;&gt;A1</title>\n",
       "<path fill=\"none\" stroke=\"black\" d=\"M62.73,-175.01C73.5,-162.47 88.68,-144.8 100.98,-130.48\"/>\n",
       "<polygon fill=\"black\" stroke=\"black\" points=\"103.97,-132.36 107.83,-122.5 98.66,-127.8 103.97,-132.36\"/>\n",
       "<text text-anchor=\"middle\" x=\"98\" y=\"-144.8\" font-family=\"Times,serif\" font-size=\"14.00\">oui</text>\n",
       "</g>\n",
       "<!-- A10 -->\n",
       "<g id=\"node4\" class=\"node\">\n",
       "<title>A10</title>\n",
       "<polygon fill=\"none\" stroke=\"black\" points=\"77,-36 23,-36 23,0 77,0 77,-36\"/>\n",
       "<text text-anchor=\"middle\" x=\"50\" y=\"-14.3\" font-family=\"Times,serif\" font-size=\"14.00\">1</text>\n",
       "</g>\n",
       "<!-- A1&#45;&gt;A10 -->\n",
       "<g id=\"edge2\" class=\"edge\">\n",
       "<title>A1&#45;&gt;A10</title>\n",
       "<path fill=\"none\" stroke=\"black\" d=\"M95.9,-89.63C87.46,-84.04 78.59,-77.03 72,-69 66.35,-62.12 61.89,-53.57 58.5,-45.49\"/>\n",
       "<polygon fill=\"black\" stroke=\"black\" points=\"61.72,-44.12 54.89,-36.02 55.18,-46.61 61.72,-44.12\"/>\n",
       "<text text-anchor=\"middle\" x=\"95\" y=\"-57.8\" font-family=\"Times,serif\" font-size=\"14.00\">Francais</text>\n",
       "</g>\n",
       "<!-- A11 -->\n",
       "<g id=\"node5\" class=\"node\">\n",
       "<title>A11</title>\n",
       "<polygon fill=\"none\" stroke=\"black\" points=\"149,-36 95,-36 95,0 149,0 149,-36\"/>\n",
       "<text text-anchor=\"middle\" x=\"122\" y=\"-14.3\" font-family=\"Times,serif\" font-size=\"14.00\">1</text>\n",
       "</g>\n",
       "<!-- A1&#45;&gt;A11 -->\n",
       "<g id=\"edge3\" class=\"edge\">\n",
       "<title>A1&#45;&gt;A11</title>\n",
       "<path fill=\"none\" stroke=\"black\" d=\"M122,-86.8C122,-75.16 122,-59.55 122,-46.24\"/>\n",
       "<polygon fill=\"black\" stroke=\"black\" points=\"125.5,-46.18 122,-36.18 118.5,-46.18 125.5,-46.18\"/>\n",
       "<text text-anchor=\"middle\" x=\"139.5\" y=\"-57.8\" font-family=\"Times,serif\" font-size=\"14.00\">Italien</text>\n",
       "</g>\n",
       "<!-- A12 -->\n",
       "<g id=\"node6\" class=\"node\">\n",
       "<title>A12</title>\n",
       "<polygon fill=\"none\" stroke=\"black\" points=\"221,-36 167,-36 167,0 221,0 221,-36\"/>\n",
       "<text text-anchor=\"middle\" x=\"194\" y=\"-14.3\" font-family=\"Times,serif\" font-size=\"14.00\">&#45;1</text>\n",
       "</g>\n",
       "<!-- A1&#45;&gt;A12 -->\n",
       "<g id=\"edge4\" class=\"edge\">\n",
       "<title>A1&#45;&gt;A12</title>\n",
       "<path fill=\"none\" stroke=\"black\" d=\"M141.58,-88.18C148.1,-82.47 155.18,-75.75 161,-69 167.32,-61.67 173.4,-53.07 178.58,-45.09\"/>\n",
       "<polygon fill=\"black\" stroke=\"black\" points=\"181.66,-46.77 184.02,-36.44 175.73,-43.04 181.66,-46.77\"/>\n",
       "<text text-anchor=\"middle\" x=\"189.5\" y=\"-57.8\" font-family=\"Times,serif\" font-size=\"14.00\">Suisse</text>\n",
       "</g>\n",
       "</g>\n",
       "</svg>\n"
      ],
      "text/plain": [
       "<graphviz.graphs.Digraph at 0x7f054b6f4390>"
      ]
     },
     "execution_count": 19,
     "metadata": {},
     "output_type": "execute_result"
    }
   ],
   "source": [
    "# Initialiation d'un arbre pour le dataset Elections:\n",
    "arbre_elections = ClassifierArbreDecision(len(elections_noms), 0.0, elections_noms)\n",
    "\n",
    "# Construction de l'arbre de décision à partir du dataset Elections\n",
    "arbre_elections.train(elections_desc,elections_label)\n",
    "\n",
    "# Construction de la représentation graphique (affichage)\n",
    "graphe_arbre_elections = gv.Digraph(format='png')\n",
    "arbre_elections.draw(graphe_arbre_elections)\n",
    "\n",
    "# Affichage du graphe obtenu:\n",
    "graphe_arbre_elections"
   ]
  },
  {
   "cell_type": "markdown",
   "metadata": {},
   "source": [
    "Pour classer un nouvel exemple avec un arbre de décision, on utilise la méthode <code>predict</code> qui utilise la méthode `classifie` de la classe `NoeudCategoriel` pour classer un nouvel exemple et renvoyer le label +1 ou -1 selon le cas. \n",
    "\n",
    "Exemple de classification d'un exemple avec l'arbre obtenu :"
   ]
  },
  {
   "cell_type": "code",
   "execution_count": 20,
   "metadata": {},
   "outputs": [
    {
     "data": {
      "text/plain": [
       "1"
      ]
     },
     "execution_count": 20,
     "metadata": {},
     "output_type": "execute_result"
    }
   ],
   "source": [
    "arbre_elections.predict(elections_desc[0,:])"
   ]
  },
  {
   "cell_type": "markdown",
   "metadata": {},
   "source": [
    "Classification d'un nouvel exemple qui n'appartient à pas au dataset d'apprentissage :"
   ]
  },
  {
   "cell_type": "code",
   "execution_count": 21,
   "metadata": {},
   "outputs": [
    {
     "data": {
      "text/plain": [
       "1"
      ]
     },
     "execution_count": 21,
     "metadata": {},
     "output_type": "execute_result"
    }
   ],
   "source": [
    "# Rappel : elections_noms = ['Adresse', 'Majeur?', 'Nationalite']\n",
    "arbre_elections.predict(np.array(['Paris','oui','Italien']))"
   ]
  },
  {
   "cell_type": "markdown",
   "metadata": {},
   "source": [
    "Mesure de l'accuracy de l'arbre obtenu :"
   ]
  },
  {
   "cell_type": "code",
   "execution_count": 22,
   "metadata": {},
   "outputs": [
    {
     "data": {
      "text/plain": [
       "1.0"
      ]
     },
     "execution_count": 22,
     "metadata": {},
     "output_type": "execute_result"
    }
   ],
   "source": [
    "arbre_elections.accuracy(elections_desc,elections_label)"
   ]
  },
  {
   "cell_type": "markdown",
   "metadata": {},
   "source": [
    "## Première expérimentation avec la base Mushrooms"
   ]
  },
  {
   "cell_type": "markdown",
   "metadata": {},
   "source": [
    "Pour mieux évaluer notre nouvel algortithme d'apprentissage, on va utiliser la base des champignons `mushrooms-1000.csv` qui est fournie dans le répertoire `data`. Ce dataset est une version réduite du dataset original qui comporte plus de 8000 champignons.\n",
    "\n",
    "\n",
    "\n",
    "Dans le répertorie `data/` fourni avec ce sujet, vous pouvez trouver 6 fichiers `mushrooms-****.csv`. Ces 6 fichiers ont été obtenus en partitionant le fichier orignal `mushrooms.csv` que l'on peut trouver sur internet. Dans cette base originale, il y a **8124 champignons** recensés. Ce fichier original a été découpé en 5 fichiers de 1400 champignons et 1 fichier de 1124 champignons. L'union de ces 6 fichiers permet donc de recomposer le fichier original.\n"
   ]
  },
  {
   "cell_type": "markdown",
   "metadata": {},
   "source": [
    "### Construction d'un arbre de décision\n",
    "\n",
    "Dans un premier temps, on vérifie que notre algorithme d'apprentissage fonctionne correctement en construisant un arbre de décision à partir d'un des fichiers.\n",
    "\n",
    "On commence par charger le fichier dans un dataframe et on le transforme en dataset (cf. le notebook précédent pour le détail des étapes):"
   ]
  },
  {
   "cell_type": "code",
   "execution_count": 23,
   "metadata": {},
   "outputs": [
    {
     "data": {
      "text/html": [
       "<div>\n",
       "<style scoped>\n",
       "    .dataframe tbody tr th:only-of-type {\n",
       "        vertical-align: middle;\n",
       "    }\n",
       "\n",
       "    .dataframe tbody tr th {\n",
       "        vertical-align: top;\n",
       "    }\n",
       "\n",
       "    .dataframe thead th {\n",
       "        text-align: right;\n",
       "    }\n",
       "</style>\n",
       "<table border=\"1\" class=\"dataframe\">\n",
       "  <thead>\n",
       "    <tr style=\"text-align: right;\">\n",
       "      <th></th>\n",
       "      <th>class</th>\n",
       "      <th>cap-shape</th>\n",
       "      <th>cap-surface</th>\n",
       "      <th>cap-color</th>\n",
       "      <th>bruises</th>\n",
       "      <th>odor</th>\n",
       "      <th>gill-attachment</th>\n",
       "      <th>gill-spacing</th>\n",
       "      <th>gill-size</th>\n",
       "      <th>gill-color</th>\n",
       "      <th>...</th>\n",
       "      <th>stalk-surface-below-ring</th>\n",
       "      <th>stalk-color-above-ring</th>\n",
       "      <th>stalk-color-below-ring</th>\n",
       "      <th>veil-type</th>\n",
       "      <th>veil-color</th>\n",
       "      <th>ring-number</th>\n",
       "      <th>ring-type</th>\n",
       "      <th>spore-print-color</th>\n",
       "      <th>population</th>\n",
       "      <th>habitat</th>\n",
       "    </tr>\n",
       "  </thead>\n",
       "  <tbody>\n",
       "    <tr>\n",
       "      <th>0</th>\n",
       "      <td>p</td>\n",
       "      <td>x</td>\n",
       "      <td>y</td>\n",
       "      <td>n</td>\n",
       "      <td>f</td>\n",
       "      <td>y</td>\n",
       "      <td>f</td>\n",
       "      <td>c</td>\n",
       "      <td>n</td>\n",
       "      <td>b</td>\n",
       "      <td>...</td>\n",
       "      <td>s</td>\n",
       "      <td>p</td>\n",
       "      <td>w</td>\n",
       "      <td>p</td>\n",
       "      <td>w</td>\n",
       "      <td>o</td>\n",
       "      <td>e</td>\n",
       "      <td>w</td>\n",
       "      <td>v</td>\n",
       "      <td>d</td>\n",
       "    </tr>\n",
       "    <tr>\n",
       "      <th>1</th>\n",
       "      <td>p</td>\n",
       "      <td>x</td>\n",
       "      <td>s</td>\n",
       "      <td>n</td>\n",
       "      <td>f</td>\n",
       "      <td>y</td>\n",
       "      <td>f</td>\n",
       "      <td>c</td>\n",
       "      <td>n</td>\n",
       "      <td>b</td>\n",
       "      <td>...</td>\n",
       "      <td>k</td>\n",
       "      <td>p</td>\n",
       "      <td>w</td>\n",
       "      <td>p</td>\n",
       "      <td>w</td>\n",
       "      <td>o</td>\n",
       "      <td>e</td>\n",
       "      <td>w</td>\n",
       "      <td>v</td>\n",
       "      <td>l</td>\n",
       "    </tr>\n",
       "    <tr>\n",
       "      <th>2</th>\n",
       "      <td>p</td>\n",
       "      <td>x</td>\n",
       "      <td>f</td>\n",
       "      <td>y</td>\n",
       "      <td>f</td>\n",
       "      <td>f</td>\n",
       "      <td>f</td>\n",
       "      <td>c</td>\n",
       "      <td>b</td>\n",
       "      <td>g</td>\n",
       "      <td>...</td>\n",
       "      <td>k</td>\n",
       "      <td>b</td>\n",
       "      <td>p</td>\n",
       "      <td>p</td>\n",
       "      <td>w</td>\n",
       "      <td>o</td>\n",
       "      <td>l</td>\n",
       "      <td>h</td>\n",
       "      <td>v</td>\n",
       "      <td>d</td>\n",
       "    </tr>\n",
       "    <tr>\n",
       "      <th>3</th>\n",
       "      <td>p</td>\n",
       "      <td>x</td>\n",
       "      <td>f</td>\n",
       "      <td>y</td>\n",
       "      <td>f</td>\n",
       "      <td>f</td>\n",
       "      <td>f</td>\n",
       "      <td>c</td>\n",
       "      <td>b</td>\n",
       "      <td>g</td>\n",
       "      <td>...</td>\n",
       "      <td>k</td>\n",
       "      <td>n</td>\n",
       "      <td>b</td>\n",
       "      <td>p</td>\n",
       "      <td>w</td>\n",
       "      <td>o</td>\n",
       "      <td>l</td>\n",
       "      <td>h</td>\n",
       "      <td>y</td>\n",
       "      <td>g</td>\n",
       "    </tr>\n",
       "    <tr>\n",
       "      <th>4</th>\n",
       "      <td>p</td>\n",
       "      <td>x</td>\n",
       "      <td>f</td>\n",
       "      <td>y</td>\n",
       "      <td>f</td>\n",
       "      <td>f</td>\n",
       "      <td>f</td>\n",
       "      <td>c</td>\n",
       "      <td>b</td>\n",
       "      <td>h</td>\n",
       "      <td>...</td>\n",
       "      <td>k</td>\n",
       "      <td>p</td>\n",
       "      <td>b</td>\n",
       "      <td>p</td>\n",
       "      <td>w</td>\n",
       "      <td>o</td>\n",
       "      <td>l</td>\n",
       "      <td>h</td>\n",
       "      <td>y</td>\n",
       "      <td>d</td>\n",
       "    </tr>\n",
       "    <tr>\n",
       "      <th>...</th>\n",
       "      <td>...</td>\n",
       "      <td>...</td>\n",
       "      <td>...</td>\n",
       "      <td>...</td>\n",
       "      <td>...</td>\n",
       "      <td>...</td>\n",
       "      <td>...</td>\n",
       "      <td>...</td>\n",
       "      <td>...</td>\n",
       "      <td>...</td>\n",
       "      <td>...</td>\n",
       "      <td>...</td>\n",
       "      <td>...</td>\n",
       "      <td>...</td>\n",
       "      <td>...</td>\n",
       "      <td>...</td>\n",
       "      <td>...</td>\n",
       "      <td>...</td>\n",
       "      <td>...</td>\n",
       "      <td>...</td>\n",
       "      <td>...</td>\n",
       "    </tr>\n",
       "    <tr>\n",
       "      <th>1395</th>\n",
       "      <td>p</td>\n",
       "      <td>x</td>\n",
       "      <td>y</td>\n",
       "      <td>e</td>\n",
       "      <td>f</td>\n",
       "      <td>f</td>\n",
       "      <td>f</td>\n",
       "      <td>c</td>\n",
       "      <td>n</td>\n",
       "      <td>b</td>\n",
       "      <td>...</td>\n",
       "      <td>k</td>\n",
       "      <td>w</td>\n",
       "      <td>w</td>\n",
       "      <td>p</td>\n",
       "      <td>w</td>\n",
       "      <td>o</td>\n",
       "      <td>e</td>\n",
       "      <td>w</td>\n",
       "      <td>v</td>\n",
       "      <td>p</td>\n",
       "    </tr>\n",
       "    <tr>\n",
       "      <th>1396</th>\n",
       "      <td>e</td>\n",
       "      <td>f</td>\n",
       "      <td>y</td>\n",
       "      <td>n</td>\n",
       "      <td>t</td>\n",
       "      <td>n</td>\n",
       "      <td>f</td>\n",
       "      <td>c</td>\n",
       "      <td>b</td>\n",
       "      <td>p</td>\n",
       "      <td>...</td>\n",
       "      <td>s</td>\n",
       "      <td>w</td>\n",
       "      <td>g</td>\n",
       "      <td>p</td>\n",
       "      <td>w</td>\n",
       "      <td>o</td>\n",
       "      <td>p</td>\n",
       "      <td>k</td>\n",
       "      <td>v</td>\n",
       "      <td>d</td>\n",
       "    </tr>\n",
       "    <tr>\n",
       "      <th>1397</th>\n",
       "      <td>e</td>\n",
       "      <td>f</td>\n",
       "      <td>f</td>\n",
       "      <td>e</td>\n",
       "      <td>t</td>\n",
       "      <td>n</td>\n",
       "      <td>f</td>\n",
       "      <td>c</td>\n",
       "      <td>b</td>\n",
       "      <td>n</td>\n",
       "      <td>...</td>\n",
       "      <td>s</td>\n",
       "      <td>p</td>\n",
       "      <td>g</td>\n",
       "      <td>p</td>\n",
       "      <td>w</td>\n",
       "      <td>o</td>\n",
       "      <td>p</td>\n",
       "      <td>n</td>\n",
       "      <td>y</td>\n",
       "      <td>d</td>\n",
       "    </tr>\n",
       "    <tr>\n",
       "      <th>1398</th>\n",
       "      <td>p</td>\n",
       "      <td>x</td>\n",
       "      <td>f</td>\n",
       "      <td>y</td>\n",
       "      <td>f</td>\n",
       "      <td>f</td>\n",
       "      <td>f</td>\n",
       "      <td>c</td>\n",
       "      <td>b</td>\n",
       "      <td>p</td>\n",
       "      <td>...</td>\n",
       "      <td>k</td>\n",
       "      <td>n</td>\n",
       "      <td>b</td>\n",
       "      <td>p</td>\n",
       "      <td>w</td>\n",
       "      <td>o</td>\n",
       "      <td>l</td>\n",
       "      <td>h</td>\n",
       "      <td>y</td>\n",
       "      <td>d</td>\n",
       "    </tr>\n",
       "    <tr>\n",
       "      <th>1399</th>\n",
       "      <td>e</td>\n",
       "      <td>f</td>\n",
       "      <td>f</td>\n",
       "      <td>e</td>\n",
       "      <td>t</td>\n",
       "      <td>n</td>\n",
       "      <td>f</td>\n",
       "      <td>c</td>\n",
       "      <td>b</td>\n",
       "      <td>u</td>\n",
       "      <td>...</td>\n",
       "      <td>s</td>\n",
       "      <td>w</td>\n",
       "      <td>g</td>\n",
       "      <td>p</td>\n",
       "      <td>w</td>\n",
       "      <td>o</td>\n",
       "      <td>p</td>\n",
       "      <td>k</td>\n",
       "      <td>v</td>\n",
       "      <td>d</td>\n",
       "    </tr>\n",
       "  </tbody>\n",
       "</table>\n",
       "<p>1400 rows × 23 columns</p>\n",
       "</div>"
      ],
      "text/plain": [
       "     class cap-shape cap-surface cap-color bruises odor gill-attachment  \\\n",
       "0        p         x           y         n       f    y               f   \n",
       "1        p         x           s         n       f    y               f   \n",
       "2        p         x           f         y       f    f               f   \n",
       "3        p         x           f         y       f    f               f   \n",
       "4        p         x           f         y       f    f               f   \n",
       "...    ...       ...         ...       ...     ...  ...             ...   \n",
       "1395     p         x           y         e       f    f               f   \n",
       "1396     e         f           y         n       t    n               f   \n",
       "1397     e         f           f         e       t    n               f   \n",
       "1398     p         x           f         y       f    f               f   \n",
       "1399     e         f           f         e       t    n               f   \n",
       "\n",
       "     gill-spacing gill-size gill-color  ... stalk-surface-below-ring  \\\n",
       "0               c         n          b  ...                        s   \n",
       "1               c         n          b  ...                        k   \n",
       "2               c         b          g  ...                        k   \n",
       "3               c         b          g  ...                        k   \n",
       "4               c         b          h  ...                        k   \n",
       "...           ...       ...        ...  ...                      ...   \n",
       "1395            c         n          b  ...                        k   \n",
       "1396            c         b          p  ...                        s   \n",
       "1397            c         b          n  ...                        s   \n",
       "1398            c         b          p  ...                        k   \n",
       "1399            c         b          u  ...                        s   \n",
       "\n",
       "     stalk-color-above-ring stalk-color-below-ring veil-type veil-color  \\\n",
       "0                         p                      w         p          w   \n",
       "1                         p                      w         p          w   \n",
       "2                         b                      p         p          w   \n",
       "3                         n                      b         p          w   \n",
       "4                         p                      b         p          w   \n",
       "...                     ...                    ...       ...        ...   \n",
       "1395                      w                      w         p          w   \n",
       "1396                      w                      g         p          w   \n",
       "1397                      p                      g         p          w   \n",
       "1398                      n                      b         p          w   \n",
       "1399                      w                      g         p          w   \n",
       "\n",
       "     ring-number ring-type spore-print-color population habitat  \n",
       "0              o         e                 w          v       d  \n",
       "1              o         e                 w          v       l  \n",
       "2              o         l                 h          v       d  \n",
       "3              o         l                 h          y       g  \n",
       "4              o         l                 h          y       d  \n",
       "...          ...       ...               ...        ...     ...  \n",
       "1395           o         e                 w          v       p  \n",
       "1396           o         p                 k          v       d  \n",
       "1397           o         p                 n          y       d  \n",
       "1398           o         l                 h          y       d  \n",
       "1399           o         p                 k          v       d  \n",
       "\n",
       "[1400 rows x 23 columns]"
      ]
     },
     "execution_count": 23,
     "metadata": {},
     "output_type": "execute_result"
    }
   ],
   "source": [
    "# Chargement des fichiers de données sur les mushrooms:\n",
    "\n",
    "# On commence par travailler sur un des fichier \"mushrooms-1400\"\n",
    "mushrooms_1_df = pd.read_csv(\"data/mushrooms-1400-1.csv\")\n",
    "\n",
    "mushrooms_1_df\n"
   ]
  },
  {
   "cell_type": "code",
   "execution_count": 24,
   "metadata": {},
   "outputs": [],
   "source": [
    "# Dans ce dataframe, la colonne de classe s'appelle 'class'\n",
    "mushrooms_1_noms = [nom for nom in mushrooms_1_df.columns if nom != 'class']\n",
    "\n",
    "# Passer du dataframe à un dataset (2 arrays desc & labels):\n",
    "mushrooms_1_desc = np.array(mushrooms_1_df[mushrooms_1_noms])\n",
    "mushrooms_1_label = np.array(mushrooms_1_df['class'])\n"
   ]
  },
  {
   "cell_type": "markdown",
   "metadata": {},
   "source": [
    "Ensuite, on construit l'arbre de décision correspondant.\n",
    "\n",
    "<font color=\"RED\" size=\"+1\">**[Q]**</font> Compléter le code suivant pour apprendre l'arbre et l'afficher ensuite:"
   ]
  },
  {
   "cell_type": "code",
   "execution_count": 18,
   "metadata": {},
   "outputs": [
    {
     "ename": "NameError",
     "evalue": "name 'ClassifierArbreDecision' is not defined",
     "output_type": "error",
     "traceback": [
      "\u001b[1;31m---------------------------------------------------------------------------\u001b[0m",
      "\u001b[1;31mNameError\u001b[0m                                 Traceback (most recent call last)",
      "Cell \u001b[1;32mIn[18], line 2\u001b[0m\n\u001b[0;32m      1\u001b[0m \u001b[38;5;66;03m# construction de l'arbre de décision à partir du dataset Elections:\u001b[39;00m\n\u001b[1;32m----> 2\u001b[0m arbre_mushrooms_1 \u001b[38;5;241m=\u001b[39m \u001b[43mClassifierArbreDecision\u001b[49m(\u001b[38;5;28mlen\u001b[39m(mushrooms_1_noms), \u001b[38;5;241m0.0\u001b[39m, mushrooms_1_noms)\n\u001b[0;32m      4\u001b[0m \u001b[38;5;66;03m#################################\u001b[39;00m\n\u001b[0;32m      5\u001b[0m \n\u001b[0;32m      6\u001b[0m \u001b[38;5;66;03m# A COMPLETER \u001b[39;00m\n\u001b[1;32m   (...)\u001b[0m\n\u001b[0;32m     10\u001b[0m \n\u001b[0;32m     11\u001b[0m \u001b[38;5;66;03m# Affichage du graphe obtenu:\u001b[39;00m\n\u001b[0;32m     12\u001b[0m gr_arbre_mushrooms_1\n",
      "\u001b[1;31mNameError\u001b[0m: name 'ClassifierArbreDecision' is not defined"
     ]
    }
   ],
   "source": [
    "# construction de l'arbre de décision à partir du dataset Elections:\n",
    "arbre_mushrooms_1 = ClassifierArbreDecision(len(mushrooms_1_noms), 0.0, mushrooms_1_noms)\n",
    "\n",
    "#################################\n",
    "\n",
    "# A COMPLETER \n",
    "arbre_mushrooms_1.train(mushrooms_1_desc, mushrooms_1_label)\n",
    "gr_arbre_mushrooms_1 = Graph()\n",
    "arbre_mushrooms_1.draw(gr_arbre_mushrooms_1)\n",
    "#################################\n",
    "\n",
    "\n",
    "# Affichage du graphe obtenu:\n",
    "gr_arbre_mushrooms_1"
   ]
  },
  {
   "cell_type": "markdown",
   "metadata": {},
   "source": [
    "### Classification avec l'arbre de décision obtenu"
   ]
  },
  {
   "cell_type": "markdown",
   "metadata": {},
   "source": [
    "Exemple de classification d'un exemple:"
   ]
  },
  {
   "cell_type": "code",
   "execution_count": 26,
   "metadata": {},
   "outputs": [
    {
     "data": {
      "text/plain": [
       "'p'"
      ]
     },
     "execution_count": 26,
     "metadata": {},
     "output_type": "execute_result"
    }
   ],
   "source": [
    "arbre_mushrooms_1.predict(mushrooms_1_desc[0,:])"
   ]
  },
  {
   "cell_type": "markdown",
   "metadata": {},
   "source": [
    "Calcul de l'accuracy sur le dataset d'apprentissage.\n",
    "\n",
    "**Attention**: la fonction `accuracy` doit pouvoir tenir compte du fait que les classes ne sont pas égales à +1 ou -1 comme c'était le cas jusqu'à présent, il peut donc être nécessaire de redéfinir cette méthode dans la classe \n",
    "`ClassifierArbreDecision`: *la classification est correcte si la fonction `predict` rend la vraie classe de l'exemple.*\n"
   ]
  },
  {
   "cell_type": "code",
   "execution_count": 27,
   "metadata": {},
   "outputs": [
    {
     "data": {
      "text/plain": [
       "1.0"
      ]
     },
     "execution_count": 27,
     "metadata": {},
     "output_type": "execute_result"
    }
   ],
   "source": [
    "arbre_mushrooms_1.accuracy(mushrooms_1_desc,mushrooms_1_label)"
   ]
  },
  {
   "cell_type": "markdown",
   "metadata": {},
   "source": [
    "<font color=\"RED\" size=\"+1\">**[Q]**</font> Toujours avec le dataset `mushrooms_1` précédent, construire un nouvel arbre de décision en utilisant comme valeur d'epsilon : $0.25$.\n",
    "\n",
    "Que constatez-vous ? "
   ]
  },
  {
   "cell_type": "code",
   "execution_count": 28,
   "metadata": {},
   "outputs": [
    {
     "data": {
      "image/svg+xml": [
       "<?xml version=\"1.0\" encoding=\"UTF-8\" standalone=\"no\"?>\n",
       "<!DOCTYPE svg PUBLIC \"-//W3C//DTD SVG 1.1//EN\"\n",
       " \"http://www.w3.org/Graphics/SVG/1.1/DTD/svg11.dtd\">\n",
       "<!-- Generated by graphviz version 2.43.0 (0)\n",
       " -->\n",
       "<!-- Title: %3 Pages: 1 -->\n",
       "<svg width=\"638pt\" height=\"131pt\"\n",
       " viewBox=\"0.00 0.00 638.00 131.00\" xmlns=\"http://www.w3.org/2000/svg\" xmlns:xlink=\"http://www.w3.org/1999/xlink\">\n",
       "<g id=\"graph0\" class=\"graph\" transform=\"scale(1 1) rotate(0) translate(4 127)\">\n",
       "<title>%3</title>\n",
       "<polygon fill=\"white\" stroke=\"transparent\" points=\"-4,4 -4,-127 634,-127 634,4 -4,4\"/>\n",
       "<!-- A -->\n",
       "<g id=\"node1\" class=\"node\">\n",
       "<title>A</title>\n",
       "<ellipse fill=\"none\" stroke=\"black\" cx=\"315\" cy=\"-105\" rx=\"27\" ry=\"18\"/>\n",
       "<text text-anchor=\"middle\" x=\"315\" y=\"-101.3\" font-family=\"Times,serif\" font-size=\"14.00\">odor</text>\n",
       "</g>\n",
       "<!-- A0 -->\n",
       "<g id=\"node2\" class=\"node\">\n",
       "<title>A0</title>\n",
       "<polygon fill=\"none\" stroke=\"black\" points=\"54,-36 0,-36 0,0 54,0 54,-36\"/>\n",
       "<text text-anchor=\"middle\" x=\"27\" y=\"-14.3\" font-family=\"Times,serif\" font-size=\"14.00\">e</text>\n",
       "</g>\n",
       "<!-- A&#45;&gt;A0 -->\n",
       "<g id=\"edge1\" class=\"edge\">\n",
       "<title>A&#45;&gt;A0</title>\n",
       "<path fill=\"none\" stroke=\"black\" d=\"M289.42,-98.92C244.88,-89.69 150.34,-68.41 63.76,-36.01\"/>\n",
       "<polygon fill=\"black\" stroke=\"black\" points=\"64.92,-32.71 54.33,-32.42 62.44,-39.25 64.92,-32.71\"/>\n",
       "<text text-anchor=\"middle\" x=\"162.5\" y=\"-57.8\" font-family=\"Times,serif\" font-size=\"14.00\">a</text>\n",
       "</g>\n",
       "<!-- A1 -->\n",
       "<g id=\"node3\" class=\"node\">\n",
       "<title>A1</title>\n",
       "<polygon fill=\"none\" stroke=\"black\" points=\"126,-36 72,-36 72,0 126,0 126,-36\"/>\n",
       "<text text-anchor=\"middle\" x=\"99\" y=\"-14.3\" font-family=\"Times,serif\" font-size=\"14.00\">p</text>\n",
       "</g>\n",
       "<!-- A&#45;&gt;A1 -->\n",
       "<g id=\"edge2\" class=\"edge\">\n",
       "<title>A&#45;&gt;A1</title>\n",
       "<path fill=\"none\" stroke=\"black\" d=\"M291.46,-95.79C258.55,-84.16 196.77,-61.8 135.46,-36.04\"/>\n",
       "<polygon fill=\"black\" stroke=\"black\" points=\"136.6,-32.72 126.02,-32.04 133.87,-39.17 136.6,-32.72\"/>\n",
       "<text text-anchor=\"middle\" x=\"217.5\" y=\"-57.8\" font-family=\"Times,serif\" font-size=\"14.00\">c</text>\n",
       "</g>\n",
       "<!-- A2 -->\n",
       "<g id=\"node4\" class=\"node\">\n",
       "<title>A2</title>\n",
       "<polygon fill=\"none\" stroke=\"black\" points=\"198,-36 144,-36 144,0 198,0 198,-36\"/>\n",
       "<text text-anchor=\"middle\" x=\"171\" y=\"-14.3\" font-family=\"Times,serif\" font-size=\"14.00\">p</text>\n",
       "</g>\n",
       "<!-- A&#45;&gt;A2 -->\n",
       "<g id=\"edge3\" class=\"edge\">\n",
       "<title>A&#45;&gt;A2</title>\n",
       "<path fill=\"none\" stroke=\"black\" d=\"M295.28,-92.36C272.55,-78.94 234.74,-56.63 206.79,-40.12\"/>\n",
       "<polygon fill=\"black\" stroke=\"black\" points=\"208.48,-37.06 198.09,-34.99 204.92,-43.09 208.48,-37.06\"/>\n",
       "<text text-anchor=\"middle\" x=\"254.5\" y=\"-57.8\" font-family=\"Times,serif\" font-size=\"14.00\">f</text>\n",
       "</g>\n",
       "<!-- A3 -->\n",
       "<g id=\"node5\" class=\"node\">\n",
       "<title>A3</title>\n",
       "<polygon fill=\"none\" stroke=\"black\" points=\"270,-36 216,-36 216,0 270,0 270,-36\"/>\n",
       "<text text-anchor=\"middle\" x=\"243\" y=\"-14.3\" font-family=\"Times,serif\" font-size=\"14.00\">e</text>\n",
       "</g>\n",
       "<!-- A&#45;&gt;A3 -->\n",
       "<g id=\"edge4\" class=\"edge\">\n",
       "<title>A&#45;&gt;A3</title>\n",
       "<path fill=\"none\" stroke=\"black\" d=\"M302.13,-88.8C291.55,-76.31 276.35,-58.37 264.01,-43.8\"/>\n",
       "<polygon fill=\"black\" stroke=\"black\" points=\"266.63,-41.48 257.49,-36.11 261.29,-46 266.63,-41.48\"/>\n",
       "<text text-anchor=\"middle\" x=\"286\" y=\"-57.8\" font-family=\"Times,serif\" font-size=\"14.00\">l</text>\n",
       "</g>\n",
       "<!-- A4 -->\n",
       "<g id=\"node6\" class=\"node\">\n",
       "<title>A4</title>\n",
       "<polygon fill=\"none\" stroke=\"black\" points=\"342,-36 288,-36 288,0 342,0 342,-36\"/>\n",
       "<text text-anchor=\"middle\" x=\"315\" y=\"-14.3\" font-family=\"Times,serif\" font-size=\"14.00\">p</text>\n",
       "</g>\n",
       "<!-- A&#45;&gt;A4 -->\n",
       "<g id=\"edge5\" class=\"edge\">\n",
       "<title>A&#45;&gt;A4</title>\n",
       "<path fill=\"none\" stroke=\"black\" d=\"M315,-86.8C315,-75.16 315,-59.55 315,-46.24\"/>\n",
       "<polygon fill=\"black\" stroke=\"black\" points=\"318.5,-46.18 315,-36.18 311.5,-46.18 318.5,-46.18\"/>\n",
       "<text text-anchor=\"middle\" x=\"321\" y=\"-57.8\" font-family=\"Times,serif\" font-size=\"14.00\">m</text>\n",
       "</g>\n",
       "<!-- A5 -->\n",
       "<g id=\"node7\" class=\"node\">\n",
       "<title>A5</title>\n",
       "<polygon fill=\"none\" stroke=\"black\" points=\"414,-36 360,-36 360,0 414,0 414,-36\"/>\n",
       "<text text-anchor=\"middle\" x=\"387\" y=\"-14.3\" font-family=\"Times,serif\" font-size=\"14.00\">e</text>\n",
       "</g>\n",
       "<!-- A&#45;&gt;A5 -->\n",
       "<g id=\"edge6\" class=\"edge\">\n",
       "<title>A&#45;&gt;A5</title>\n",
       "<path fill=\"none\" stroke=\"black\" d=\"M327.87,-88.8C338.45,-76.31 353.65,-58.37 365.99,-43.8\"/>\n",
       "<polygon fill=\"black\" stroke=\"black\" points=\"368.71,-46 372.51,-36.11 363.37,-41.48 368.71,-46\"/>\n",
       "<text text-anchor=\"middle\" x=\"359.5\" y=\"-57.8\" font-family=\"Times,serif\" font-size=\"14.00\">n</text>\n",
       "</g>\n",
       "<!-- A6 -->\n",
       "<g id=\"node8\" class=\"node\">\n",
       "<title>A6</title>\n",
       "<polygon fill=\"none\" stroke=\"black\" points=\"486,-36 432,-36 432,0 486,0 486,-36\"/>\n",
       "<text text-anchor=\"middle\" x=\"459\" y=\"-14.3\" font-family=\"Times,serif\" font-size=\"14.00\">p</text>\n",
       "</g>\n",
       "<!-- A&#45;&gt;A6 -->\n",
       "<g id=\"edge7\" class=\"edge\">\n",
       "<title>A&#45;&gt;A6</title>\n",
       "<path fill=\"none\" stroke=\"black\" d=\"M334.72,-92.36C357.45,-78.94 395.26,-56.63 423.21,-40.12\"/>\n",
       "<polygon fill=\"black\" stroke=\"black\" points=\"425.08,-43.09 431.91,-34.99 421.52,-37.06 425.08,-43.09\"/>\n",
       "<text text-anchor=\"middle\" x=\"398.5\" y=\"-57.8\" font-family=\"Times,serif\" font-size=\"14.00\">p</text>\n",
       "</g>\n",
       "<!-- A7 -->\n",
       "<g id=\"node9\" class=\"node\">\n",
       "<title>A7</title>\n",
       "<polygon fill=\"none\" stroke=\"black\" points=\"558,-36 504,-36 504,0 558,0 558,-36\"/>\n",
       "<text text-anchor=\"middle\" x=\"531\" y=\"-14.3\" font-family=\"Times,serif\" font-size=\"14.00\">p</text>\n",
       "</g>\n",
       "<!-- A&#45;&gt;A7 -->\n",
       "<g id=\"edge8\" class=\"edge\">\n",
       "<title>A&#45;&gt;A7</title>\n",
       "<path fill=\"none\" stroke=\"black\" d=\"M338.54,-95.79C371.45,-84.16 433.23,-61.8 494.54,-36.04\"/>\n",
       "<polygon fill=\"black\" stroke=\"black\" points=\"496.13,-39.17 503.98,-32.04 493.4,-32.72 496.13,-39.17\"/>\n",
       "<text text-anchor=\"middle\" x=\"449\" y=\"-57.8\" font-family=\"Times,serif\" font-size=\"14.00\">s</text>\n",
       "</g>\n",
       "<!-- A8 -->\n",
       "<g id=\"node10\" class=\"node\">\n",
       "<title>A8</title>\n",
       "<polygon fill=\"none\" stroke=\"black\" points=\"630,-36 576,-36 576,0 630,0 630,-36\"/>\n",
       "<text text-anchor=\"middle\" x=\"603\" y=\"-14.3\" font-family=\"Times,serif\" font-size=\"14.00\">p</text>\n",
       "</g>\n",
       "<!-- A&#45;&gt;A8 -->\n",
       "<g id=\"edge9\" class=\"edge\">\n",
       "<title>A&#45;&gt;A8</title>\n",
       "<path fill=\"none\" stroke=\"black\" d=\"M340.58,-98.9C385.1,-89.64 479.62,-68.31 566.24,-36.01\"/>\n",
       "<polygon fill=\"black\" stroke=\"black\" points=\"567.56,-39.25 575.67,-32.43 565.08,-32.7 567.56,-39.25\"/>\n",
       "<text text-anchor=\"middle\" x=\"516.5\" y=\"-57.8\" font-family=\"Times,serif\" font-size=\"14.00\">y</text>\n",
       "</g>\n",
       "</g>\n",
       "</svg>\n"
      ],
      "text/plain": [
       "<graphviz.graphs.Digraph at 0x7f054b5038d0>"
      ]
     },
     "execution_count": 28,
     "metadata": {},
     "output_type": "execute_result"
    }
   ],
   "source": [
    "#################################\n",
    "\n",
    "# A COMPLETER \n",
    "arbre_mushrooms_1_bis = ClassifierArbreDecision(len(mushrooms_1_noms), 0.25, mushrooms_1_noms)\n",
    "arbre_mushrooms_1_bis.train(mushrooms_1_desc, mushrooms_1_label)\n",
    "gr_arbre_mushrooms_bis = Graph()\n",
    "arbre_mushrooms_1_bis.draw(gr_arbre_mushrooms_1_bis)\n",
    "#################################\n",
    "\n",
    "\n",
    "# Affichage du graphe obtenu:\n",
    "gr_arbre_mushrooms_1_bis"
   ]
  },
  {
   "cell_type": "markdown",
   "metadata": {},
   "source": [
    "<font color=\"RED\" size=\"+1\">**[Q]**</font> Déterminer l'accuracy de ce nouvel arbre.\n"
   ]
  },
  {
   "cell_type": "code",
   "execution_count": 29,
   "metadata": {},
   "outputs": [
    {
     "data": {
      "text/plain": [
       "0.9892857142857143"
      ]
     },
     "execution_count": 29,
     "metadata": {},
     "output_type": "execute_result"
    }
   ],
   "source": [
    "arbre_mushrooms_1_bis.accuracy(mushrooms_1_desc,mushrooms_1_label)"
   ]
  },
  {
   "cell_type": "markdown",
   "metadata": {},
   "source": [
    "<font color=\"RED\" size=\"+1\">**[Q]**</font> D'après ces résultats, de ces 2 arbres, quel est celui qui a sur-appris ? "
   ]
  },
  {
   "cell_type": "code",
   "execution_count": null,
   "metadata": {},
   "outputs": [],
   "source": []
  },
  {
   "cell_type": "markdown",
   "metadata": {},
   "source": [
    "<font color=\"RED\" size=\"+1\">**[Q]**</font> La complexité d'un arbre est généralement évaluée en comptant le nombre de ses feuilles. Dans la classe `ClassifierArbreDecision` la méthode `number_leaves()` doit rendre le nombre de feuilles de l'arbre en question. Cette méthode appelle la méthode `nombre_feuilles()` de la classe `NoeudCategoriel` qui vous est fournie sans son code. Compléter la définition de `nombre_feuilles()` dans la classe `NoeudCategoriel` afin de pouvoir compter les feuilles de l'arbre.\n"
   ]
  },
  {
   "cell_type": "code",
   "execution_count": 30,
   "metadata": {},
   "outputs": [
    {
     "name": "stdout",
     "output_type": "stream",
     "text": [
      "Nombre de feuilles de l'arbre:  9\n"
     ]
    }
   ],
   "source": [
    "print(\"Nombre de feuilles de l'arbre: \",arbre_mushrooms_1_bis.number_leaves())"
   ]
  },
  {
   "cell_type": "code",
   "execution_count": 31,
   "metadata": {},
   "outputs": [
    {
     "name": "stdout",
     "output_type": "stream",
     "text": [
      "Nombre de feuilles de l'arbre:  25\n"
     ]
    }
   ],
   "source": [
    "print(\"Nombre de feuilles de l'arbre: \",arbre_mushrooms_1.number_leaves())"
   ]
  },
  {
   "cell_type": "markdown",
   "metadata": {},
   "source": [
    "## Plus d'expérimentations avec la base Mushrooms\n",
    "\n",
    "On décide maintenant d'évaluer plus en détail ce nouvel algorithme. On souhaite:\n",
    "1. construire un arbre avec chaque fichier `mushrooms-1400-*.csv` \n",
    "2. pour chaque arbre construit, évaluer son accuracy:\n",
    "    - sur le dataset d'apprentissage\n",
    "    - sur les 4 autres fichiers `mushrooms-1400-*.csv`\n",
    "    - sur le fichier `mushrooms-1124.csv`\n",
    "    \n",
    "    \n",
    "**Remarque :** normalement, tous ces tests devraient pouvoir se faire dans un temps raisonnable, dans le cas contraire, faites les un par un."
   ]
  },
  {
   "cell_type": "code",
   "execution_count": 32,
   "metadata": {},
   "outputs": [],
   "source": [
    "# Chargement des fichiers mushrooms-1400 et apprentissage\n",
    "# Les bases seront mises dans une liste de np.array\n",
    "mushrooms_desc = [] # liste des descriptions\n",
    "mushrooms_label = [] # liste des labels (ce sont les mêmes normalement...\n",
    "arbres_mushrooms = [] # la liste des arbres construits: un par base\n",
    "for j in range(0,5):\n",
    "    mushrooms_df = pd.read_csv(\"data/mushrooms-1400-\"+str(j+1)+\".csv\")\n",
    "    mushrooms_noms = [nom for nom in mushrooms_df.columns if nom != 'class']\n",
    "    # Passer du dataframe à un dataset (2 arrays):\n",
    "    mushrooms_desc.append(np.array(mushrooms_df[mushrooms_noms]))\n",
    "    mushrooms_label.append(np.array(mushrooms_df['class']))\n",
    "    \n",
    "    # Apprentissage\n",
    "    arbres_mushrooms.append(ClassifierArbreDecision(len(mushrooms_noms), 0.0, mushrooms_noms))\n",
    "    arbres_mushrooms[j].train(mushrooms_desc[j],mushrooms_label[j])"
   ]
  },
  {
   "cell_type": "code",
   "execution_count": 33,
   "metadata": {},
   "outputs": [],
   "source": [
    "# Fichier qui va nous servir à tester\n",
    "mushrooms_df = pd.read_csv(\"data/mushrooms-1124.csv\")\n",
    "\n",
    "# Passer du dataframe à un dataset (2 arrays):\n",
    "mushrooms_test_desc = np.array(mushrooms_df[mushrooms_noms])\n",
    "mushrooms_test_label = np.array(mushrooms_df['class'])"
   ]
  },
  {
   "cell_type": "markdown",
   "metadata": {},
   "source": [
    "<font color=\"RED\" size=\"+1\">**[Q]**</font> Donner les instructions permettant d'obtenir le taux de bonne classification (accuracy) de chacun des arbres construits sur les autres bases, sur le modèle suivant:"
   ]
  },
  {
   "cell_type": "code",
   "execution_count": 34,
   "metadata": {},
   "outputs": [
    {
     "name": "stdout",
     "output_type": "stream",
     "text": [
      "Apprentissage avec mushrooms-1400- 1\n",
      "\tclassification de mushrooms-1400- 1 :  1.0\n",
      "\tclassification de mushrooms-1400- 2 :  1.0\n",
      "\tclassification de mushrooms-1400- 3 :  0.9964285714285714\n",
      "\t*** Warning: attribut  cap-surface  -> Valeur inconnue:  y\n",
      "\t*** Warning: attribut  cap-surface  -> Valeur inconnue:  y\n",
      "\t*** Warning: attribut  cap-surface  -> Valeur inconnue:  y\n",
      "\tclassification de mushrooms-1400- 4 :  0.9957142857142857\n",
      "\tclassification de mushrooms-1400- 5 :  0.9971428571428571\n",
      "\t*** Warning: attribut  cap-surface  -> Valeur inconnue:  y\n",
      "\t--> classification de mushrooms-1124:  0.9955516014234875\n",
      "Apprentissage avec mushrooms-1400- 2\n",
      "\tclassification de mushrooms-1400- 1 :  0.9985714285714286\n",
      "\tclassification de mushrooms-1400- 2 :  1.0\n",
      "\tclassification de mushrooms-1400- 3 :  0.9964285714285714\n",
      "\tclassification de mushrooms-1400- 4 :  0.9957142857142857\n",
      "\tclassification de mushrooms-1400- 5 :  0.9964285714285714\n",
      "\t--> classification de mushrooms-1124:  0.994661921708185\n",
      "Apprentissage avec mushrooms-1400- 3\n",
      "\tclassification de mushrooms-1400- 1 :  0.9964285714285714\n",
      "\t*** Warning: attribut  cap-shape  -> Valeur inconnue:  c\n",
      "\t*** Warning: attribut  cap-shape  -> Valeur inconnue:  c\n",
      "\tclassification de mushrooms-1400- 2 :  0.9964285714285714\n",
      "\tclassification de mushrooms-1400- 3 :  1.0\n",
      "\t*** Warning: attribut  cap-shape  -> Valeur inconnue:  c\n",
      "\tclassification de mushrooms-1400- 4 :  0.9957142857142857\n",
      "\t*** Warning: attribut  cap-shape  -> Valeur inconnue:  c\n",
      "\tclassification de mushrooms-1400- 5 :  0.9971428571428571\n",
      "\t--> classification de mushrooms-1124:  1.0\n",
      "Apprentissage avec mushrooms-1400- 4\n",
      "\tclassification de mushrooms-1400- 1 :  1.0\n",
      "\tclassification de mushrooms-1400- 2 :  1.0\n",
      "\tclassification de mushrooms-1400- 3 :  1.0\n",
      "\tclassification de mushrooms-1400- 4 :  1.0\n",
      "\tclassification de mushrooms-1400- 5 :  1.0\n",
      "\t--> classification de mushrooms-1124:  1.0\n",
      "Apprentissage avec mushrooms-1400- 5\n",
      "\tclassification de mushrooms-1400- 1 :  0.9964285714285714\n",
      "\tclassification de mushrooms-1400- 2 :  0.9971428571428571\n",
      "\tclassification de mushrooms-1400- 3 :  0.9971428571428571\n",
      "\tclassification de mushrooms-1400- 4 :  0.995\n",
      "\tclassification de mushrooms-1400- 5 :  1.0\n",
      "\t--> classification de mushrooms-1124:  0.99644128113879\n"
     ]
    }
   ],
   "source": [
    "for j in range(5):\n",
    "    print(f\"Apprentissage avec mushrooms-1400-{j+1}\")\n",
    "    \n",
    "    for k in range(5):\n",
    "        test_acc = arbres_mushrooms[j].accuracy(mushrooms_desc[k], mushrooms_label[k])\n",
    "        print(f\"\\tclassification de mushrooms-1400-{k+1}: {test_acc}\")\n",
    "    \n",
    "    # Accuracy sur le fichier mushrooms-1124\n",
    "    acc_1124 = arbres_mushrooms[j].accuracy(mushrooms_test_desc, mushrooms_test_label)\n",
    "    print(f\"\\t--> classification de mushrooms-1124: {acc_1124}\")"
   ]
  },
  {
   "cell_type": "markdown",
   "metadata": {},
   "source": [
    "<font color=\"RED\" size=\"+1\">**[Q]**</font> On peut remarquer que pour certains arbres, la classification de certains exemples produit un warning.\n",
    "En étudiant les exemples suivant et leur classification par le premier arbre, expliquez pourquoi un warning se produit.\n",
    "Est-ce normal ? Pourrait-on trouver une solution pour ces cas-là ?\n"
   ]
  },
  {
   "cell_type": "code",
   "execution_count": 35,
   "metadata": {},
   "outputs": [
    {
     "name": "stdout",
     "output_type": "stream",
     "text": [
      "\t*** Warning: attribut  cap-surface  -> Valeur inconnue:  y\n",
      "962  --> pas de prédiction, le label rendu est  None\n",
      "\t*** Warning: attribut  cap-surface  -> Valeur inconnue:  y\n",
      "1219  --> pas de prédiction, le label rendu est  None\n",
      "\t*** Warning: attribut  cap-surface  -> Valeur inconnue:  y\n",
      "1349  --> pas de prédiction, le label rendu est  None\n"
     ]
    }
   ],
   "source": [
    "for i in range(0,1400):\n",
    "    prediction = arbres_mushrooms[0].predict(mushrooms_desc[3][i,:])\n",
    "    if prediction == None:\n",
    "        print(i,\" --> pas de prédiction, le label rendu est \",prediction)\n"
   ]
  },
  {
   "cell_type": "markdown",
   "metadata": {},
   "source": [
    "<font color=\"RED\" size=\"+1\">**[Q]**</font> Réaliser une validation croisée en 10 paquets sur la base `mushrooms-1400-1`."
   ]
  },
  {
   "cell_type": "code",
   "execution_count": 36,
   "metadata": {},
   "outputs": [
    {
     "name": "stdout",
     "output_type": "stream",
     "text": [
      "------ affichage validation croisée (optionnel)\n",
      "Itération 0: taille base app.= 1261\ttaille base test= 139\tTaux de bonne classif: 1.0000\n",
      "Itération 1: taille base app.= 1261\ttaille base test= 139\tTaux de bonne classif: 1.0000\n",
      "Itération 2: taille base app.= 1261\ttaille base test= 139\tTaux de bonne classif: 0.9784\n",
      "Itération 3: taille base app.= 1261\ttaille base test= 139\tTaux de bonne classif: 1.0000\n",
      "Itération 4: taille base app.= 1261\ttaille base test= 139\tTaux de bonne classif: 1.0000\n",
      "Itération 5: taille base app.= 1261\ttaille base test= 139\tTaux de bonne classif: 1.0000\n",
      "Itération 6: taille base app.= 1261\ttaille base test= 139\tTaux de bonne classif: 1.0000\n",
      "Itération 7: taille base app.= 1261\ttaille base test= 139\tTaux de bonne classif: 1.0000\n",
      "Itération 8: taille base app.= 1261\ttaille base test= 139\tTaux de bonne classif: 1.0000\n",
      "Itération 9: taille base app.= 1261\ttaille base test= 139\tTaux de bonne classif: 1.0000\n",
      "------ fin affichage validation croisée\n",
      "Validation croisée sur mushrooms 1\n",
      "Perf obtenues :  [1.0, 1.0, 0.9784172661870504, 1.0, 1.0, 1.0, 1.0, 1.0, 1.0, 1.0]\n",
      "Accuracy moyenne: 0.998\técart type: 0.0065\n",
      "Résultat en 0.4360 secondes.\n"
     ]
    }
   ],
   "source": [
    "# la base mushrooms-1400-1 a déjà été chargée dans une boîte précédente (cf. plus haut).\n",
    "\n",
    "###################### A COMPLETER \n",
    "\n",
    "\n",
    "#################################\n",
    "\n",
    "\n",
    "# Remarque: j'ai mis des affichage dans la fonction validation croisée afin de montrer\n",
    "# ce qui se passe:\n",
    "tic= time.time()\n",
    "(res_all, res_moy, res_sd) = ev.validation_croisee(arbre, (mushrooms_1_desc, mushrooms_1_label), 10)\n",
    "toc= time.time()\n",
    "\n",
    "print(\"Validation croisée sur mushrooms 1\")\n",
    "print(\"Perf obtenues : \",res_all)\n",
    "print(f'Accuracy moyenne: {res_moy:0.3f}\\técart type: {res_sd:0.4f}')\n",
    "print(f'Résultat en {(toc-tic):0.4f} secondes.')"
   ]
  },
  {
   "cell_type": "markdown",
   "metadata": {},
   "source": [
    "<font color=\"RED\" size=\"+1\">**[Q]**</font> Regrouper les 6 fichiers mushrooms et réaliser une évaluation de l'algorithme de construction d'arbres par une validation croisée en 10 paquets. Pour ces tests, epsilon sera pris égal à $0.1$."
   ]
  },
  {
   "cell_type": "code",
   "execution_count": 38,
   "metadata": {},
   "outputs": [
    {
     "name": "stdout",
     "output_type": "stream",
     "text": [
      "------ affichage validation croisée (optionnel)\n",
      "Itération 0: taille base app.= 7313\ttaille base test= 811\tTaux de bonne classif: 1.0000\n",
      "Itération 1: taille base app.= 7313\ttaille base test= 811\tTaux de bonne classif: 1.0000\n",
      "Itération 2: taille base app.= 7313\ttaille base test= 811\tTaux de bonne classif: 1.0000\n",
      "Itération 3: taille base app.= 7313\ttaille base test= 811\tTaux de bonne classif: 1.0000\n",
      "Itération 4: taille base app.= 7313\ttaille base test= 811\tTaux de bonne classif: 1.0000\n",
      "Itération 5: taille base app.= 7313\ttaille base test= 811\tTaux de bonne classif: 1.0000\n",
      "Itération 6: taille base app.= 7313\ttaille base test= 811\tTaux de bonne classif: 1.0000\n",
      "Itération 7: taille base app.= 7313\ttaille base test= 811\tTaux de bonne classif: 1.0000\n",
      "Itération 8: taille base app.= 7313\ttaille base test= 811\tTaux de bonne classif: 1.0000\n",
      "Itération 9: taille base app.= 7313\ttaille base test= 811\tTaux de bonne classif: 1.0000\n",
      "------ fin affichage validation croisée\n",
      "Validation croisée sur tous les mushrooms\n",
      "Accuracy moyenne: 1.000\técart type: 0.0000\n",
      "Résultat en 1.9623 secondes.\n"
     ]
    }
   ],
   "source": []
  },
  {
   "cell_type": "markdown",
   "metadata": {},
   "source": [
    "<font color=\"RED\" size=\"+1\">**[Q]**</font> Tracer la courbe donnant la variation de l'accuracy moyenne (avec son écart-type) quand la valeur de epsilon varie entre $0.0$ et $1.0$. Faire de même avec la complexité (en nombre de feuilles) des arbres construits pour ces valeurs de epsilon.\n",
    "\n",
    "**Remarque**: vous serez peut être amené à écrire une variante de la fonction `validation_croisee` spécifique aux arbres de décision.\n"
   ]
  },
  {
   "cell_type": "code",
   "execution_count": null,
   "metadata": {},
   "outputs": [],
   "source": []
  },
  {
   "cell_type": "markdown",
   "metadata": {},
   "source": [
    "## Evaluation \"Leave one out\"\n",
    "\n",
    "Nous avons vu 2 approches pour évaluer un algorithme d'apprentissage:\n",
    "- la mesure de l'accuracy sur les données d'apprentissage et sur une base de test\n",
    "- la réalisation d'une validation croisée pour mesurer l'accuracy et l'écart type (pour évaluer la robustesse) mesurées sur les données utilisées pour apprendre le modèle (données d'apprentissage) et sur des données qui n'ont pas été utilisées pour mettre au point le modèle (données test)\n",
    "\n",
    "La première approche est généralement utilisée pour comparer plusieurs modèles en regardant leur accuracy sur les mêmes données de test.\n",
    "La deuxième approche est, elle, utilisée pour aussi obtenir une certaine évaluation de la robustesse du modèle appris et garantir que l'accuracy mesurée n'est pas simplement obtenue sur \"un cas particulier\" de données.\n",
    "\n",
    "Cependant, il existe des cas où le dataset que l'on possède ne contient pas beaucoup d'exemples. Dans ce cas, deux possibilités:\n",
    "- il y a suffisament de données dans le dataset pour réaliser une validation croisée en réduisant le nombre de paquets (ie. prendre 4 paquets au lieu de 10 par exemple);\n",
    "- il y a trop peu d'exemples pour qu'une validation croisée soit réalisable, on utilise alors une autre technique d'évaluation: l'évaluation par **leave one out** (littéralement: \"en mettre un de côté\"). \n"
   ]
  },
  {
   "cell_type": "markdown",
   "metadata": {},
   "source": [
    "<div class=\"alert alert-block alert-warning\">\n",
    "    L'évaluation par <b>leave one out</b> procède ainsi: à partir d'un dataset $DS$ contenant $n$ exemples:\n",
    "    \n",
    "1. sortir un des exemples de $DS$ et le mettre de côté\n",
    "    \n",
    "2. apprendre le modèle sur les $n-1$ exemples non sortis de $DS$\n",
    "    \n",
    "3. tester le modèle appris sur l'exemple mis de côté: il est soit bien classé (on marque 1 pt), soit mal classé (on marque 0 pt)\n",
    "    \n",
    "4. prendre le $DS$ original est choisir un exemple différent à mettre de côté\n",
    "    \n",
    "5. reprendre en 1) \n",
    "\n",
    "Les étapes 4) et 5) sont faites jusqu'à ce que tous les exemples de $DS$ aient été sortis à leur tour de $DS$.\n",
    "A la fin, l'accuracy de test du modèle est alors donnée par le ratio $\\frac{\\mbox{nombre de points marqués}}{n}$.\n",
    "\n",
    "</div>    \n",
    "\n",
    "<i>Remarque</i>: le plus simple dans cette approche, c'est de sortir les exemples en les prenant dans l'ordre dans lequel ils sont dans le dataset.\n",
    "    "
   ]
  },
  {
   "cell_type": "markdown",
   "metadata": {},
   "source": [
    "<font color=\"RED\" size=\"+1\">**[Q]**</font> Ecrire la fonction `leave_one_out` qui prend en argument un algorithme d'apprentissage $C$ et un dataset $DS$ et rend l'accuracy de test de $C$ calculée sur $DS$ en utilisant l'évaluation par leave one out.\n",
    "\n",
    "**Remarque**: il peut être important de copier (correctement) le classifieur pour pouvoir l'entraîner plusieurs fois."
   ]
  },
  {
   "cell_type": "code",
   "execution_count": 39,
   "metadata": {},
   "outputs": [],
   "source": [
    "import copy  # pour utiliser copy.deepcopy() qui permet de faire des copies de C \n",
    "\n",
    "def leave_one_out(C, DS):\n",
    "    \"\"\" Classifieur * tuple[array, array] -> float\n",
    "    \"\"\"\n",
    "    ###################### A COMPLETER \n",
    "    desc, labels = dataset\n",
    "    correct_predictions = 0\n",
    "    copied_classifier = copy.deepcopy(classifier)\n",
    "\n",
    "    for i in range(len(desc)):\n",
    "        test_desc = desc[i].reshape(1, -1)\n",
    "        test_label = labels[i].reshape(1,)\n",
    "\n",
    "        train_desc = np.delete(desc, i, axis=0)\n",
    "        train_label = np.delete(labels, i)\n",
    "\n",
    "        copied_classifier.train(train_desc, train_label)\n",
    "\n",
    "        prediction = copied_classifier.predict(test_desc)\n",
    "        if prediction == test_label:\n",
    "            correct_predictions += 1\n",
    "\n",
    "    accuracy = correct_predictions / len(desc)\n",
    "    return accuracy\n",
    "\n",
    "    #################################\n"
   ]
  },
  {
   "cell_type": "markdown",
   "metadata": {},
   "source": [
    "Tester avec la base sur les élections européennes:"
   ]
  },
  {
   "cell_type": "code",
   "execution_count": 41,
   "metadata": {},
   "outputs": [
    {
     "name": "stdout",
     "output_type": "stream",
     "text": [
      "\t*** Warning: attribut  Nationalite  -> Valeur inconnue:  Italien\n"
     ]
    },
    {
     "data": {
      "text/plain": [
       "0.75"
      ]
     },
     "execution_count": 41,
     "metadata": {},
     "output_type": "execute_result"
    }
   ],
   "source": [
    "# Chargement et préparation du dataset:\n",
    "elections_df = pd.read_csv(\"data/elections.csv\")\n",
    "elections_noms = [nom for nom in elections_df.columns if nom != 'Label']\n",
    "\n",
    "data_desc = np.array(elections_df[elections_noms])\n",
    "data_label = np.array(elections_df['Label'])\n",
    "\n",
    "# Lancement du leave one out\n",
    "leave_one_out(ClassifierArbreDecision(len(elections_noms), 0.1, elections_noms),(data_desc,data_label))"
   ]
  },
  {
   "cell_type": "markdown",
   "metadata": {},
   "source": [
    "## Comparaison des arbres de décision avec d'autres algorithmes\n",
    "\n",
    "Afin de pouvoir comparer les autres classifieurs que l'on a vu précédemment avec celui par arbres de décision, il faut les adapter afin qu'ils puissent traiter les données catégorielles.\n",
    "En cours, nous avons vu l'encodage one-hot qui s'implémente en python avec la fonction `get_dummies` de la librairie `pandas` (cf. cours 6).\n"
   ]
  },
  {
   "cell_type": "markdown",
   "metadata": {},
   "source": [
    "### Base des élections"
   ]
  },
  {
   "cell_type": "markdown",
   "metadata": {},
   "source": [
    "<font color=\"RED\" size=\"+1\">**[Q]**</font> En utilisant la fonction `get_dummies` tranformer le dataframe `elections_df` en un dataframe `elections_df_num` qui ne contient que des attributs numériques."
   ]
  },
  {
   "cell_type": "code",
   "execution_count": 42,
   "metadata": {},
   "outputs": [
    {
     "name": "stdout",
     "output_type": "stream",
     "text": [
      "Noms des colonnes :  ['Adresse', 'Majeur?', 'Nationalite']\n"
     ]
    },
    {
     "data": {
      "text/html": [
       "<div>\n",
       "<style scoped>\n",
       "    .dataframe tbody tr th:only-of-type {\n",
       "        vertical-align: middle;\n",
       "    }\n",
       "\n",
       "    .dataframe tbody tr th {\n",
       "        vertical-align: top;\n",
       "    }\n",
       "\n",
       "    .dataframe thead th {\n",
       "        text-align: right;\n",
       "    }\n",
       "</style>\n",
       "<table border=\"1\" class=\"dataframe\">\n",
       "  <thead>\n",
       "    <tr style=\"text-align: right;\">\n",
       "      <th></th>\n",
       "      <th>Adresse</th>\n",
       "      <th>Majeur?</th>\n",
       "      <th>Nationalite</th>\n",
       "      <th>Label</th>\n",
       "    </tr>\n",
       "  </thead>\n",
       "  <tbody>\n",
       "    <tr>\n",
       "      <th>0</th>\n",
       "      <td>Paris</td>\n",
       "      <td>oui</td>\n",
       "      <td>Francais</td>\n",
       "      <td>1</td>\n",
       "    </tr>\n",
       "    <tr>\n",
       "      <th>1</th>\n",
       "      <td>Paris</td>\n",
       "      <td>non</td>\n",
       "      <td>Francais</td>\n",
       "      <td>-1</td>\n",
       "    </tr>\n",
       "    <tr>\n",
       "      <th>2</th>\n",
       "      <td>Montpellier</td>\n",
       "      <td>oui</td>\n",
       "      <td>Italien</td>\n",
       "      <td>1</td>\n",
       "    </tr>\n",
       "    <tr>\n",
       "      <th>3</th>\n",
       "      <td>Paris</td>\n",
       "      <td>oui</td>\n",
       "      <td>Suisse</td>\n",
       "      <td>-1</td>\n",
       "    </tr>\n",
       "    <tr>\n",
       "      <th>4</th>\n",
       "      <td>Strasbourg</td>\n",
       "      <td>non</td>\n",
       "      <td>Italien</td>\n",
       "      <td>-1</td>\n",
       "    </tr>\n",
       "    <tr>\n",
       "      <th>5</th>\n",
       "      <td>Strasbourg</td>\n",
       "      <td>non</td>\n",
       "      <td>Francais</td>\n",
       "      <td>-1</td>\n",
       "    </tr>\n",
       "    <tr>\n",
       "      <th>6</th>\n",
       "      <td>Strasbourg</td>\n",
       "      <td>oui</td>\n",
       "      <td>Francais</td>\n",
       "      <td>1</td>\n",
       "    </tr>\n",
       "    <tr>\n",
       "      <th>7</th>\n",
       "      <td>Montpellier</td>\n",
       "      <td>oui</td>\n",
       "      <td>Suisse</td>\n",
       "      <td>-1</td>\n",
       "    </tr>\n",
       "  </tbody>\n",
       "</table>\n",
       "</div>"
      ],
      "text/plain": [
       "       Adresse Majeur? Nationalite  Label\n",
       "0        Paris     oui    Francais      1\n",
       "1        Paris     non    Francais     -1\n",
       "2  Montpellier     oui     Italien      1\n",
       "3        Paris     oui      Suisse     -1\n",
       "4   Strasbourg     non     Italien     -1\n",
       "5   Strasbourg     non    Francais     -1\n",
       "6   Strasbourg     oui    Francais      1\n",
       "7  Montpellier     oui      Suisse     -1"
      ]
     },
     "execution_count": 42,
     "metadata": {},
     "output_type": "execute_result"
    }
   ],
   "source": [
    "# Rappel :\n",
    "print(\"Noms des colonnes : \", elections_noms)\n",
    "elections_df\n"
   ]
  },
  {
   "cell_type": "code",
   "execution_count": 43,
   "metadata": {},
   "outputs": [
    {
     "data": {
      "text/html": [
       "<div>\n",
       "<style scoped>\n",
       "    .dataframe tbody tr th:only-of-type {\n",
       "        vertical-align: middle;\n",
       "    }\n",
       "\n",
       "    .dataframe tbody tr th {\n",
       "        vertical-align: top;\n",
       "    }\n",
       "\n",
       "    .dataframe thead th {\n",
       "        text-align: right;\n",
       "    }\n",
       "</style>\n",
       "<table border=\"1\" class=\"dataframe\">\n",
       "  <thead>\n",
       "    <tr style=\"text-align: right;\">\n",
       "      <th></th>\n",
       "      <th>Label</th>\n",
       "      <th>Adresse_Montpellier</th>\n",
       "      <th>Adresse_Paris</th>\n",
       "      <th>Adresse_Strasbourg</th>\n",
       "      <th>Majeur?_non</th>\n",
       "      <th>Majeur?_oui</th>\n",
       "      <th>Nationalite_Francais</th>\n",
       "      <th>Nationalite_Italien</th>\n",
       "      <th>Nationalite_Suisse</th>\n",
       "    </tr>\n",
       "  </thead>\n",
       "  <tbody>\n",
       "    <tr>\n",
       "      <th>0</th>\n",
       "      <td>1</td>\n",
       "      <td>0.0</td>\n",
       "      <td>1.0</td>\n",
       "      <td>0.0</td>\n",
       "      <td>0.0</td>\n",
       "      <td>1.0</td>\n",
       "      <td>1.0</td>\n",
       "      <td>0.0</td>\n",
       "      <td>0.0</td>\n",
       "    </tr>\n",
       "    <tr>\n",
       "      <th>1</th>\n",
       "      <td>-1</td>\n",
       "      <td>0.0</td>\n",
       "      <td>1.0</td>\n",
       "      <td>0.0</td>\n",
       "      <td>1.0</td>\n",
       "      <td>0.0</td>\n",
       "      <td>1.0</td>\n",
       "      <td>0.0</td>\n",
       "      <td>0.0</td>\n",
       "    </tr>\n",
       "    <tr>\n",
       "      <th>2</th>\n",
       "      <td>1</td>\n",
       "      <td>1.0</td>\n",
       "      <td>0.0</td>\n",
       "      <td>0.0</td>\n",
       "      <td>0.0</td>\n",
       "      <td>1.0</td>\n",
       "      <td>0.0</td>\n",
       "      <td>1.0</td>\n",
       "      <td>0.0</td>\n",
       "    </tr>\n",
       "    <tr>\n",
       "      <th>3</th>\n",
       "      <td>-1</td>\n",
       "      <td>0.0</td>\n",
       "      <td>1.0</td>\n",
       "      <td>0.0</td>\n",
       "      <td>0.0</td>\n",
       "      <td>1.0</td>\n",
       "      <td>0.0</td>\n",
       "      <td>0.0</td>\n",
       "      <td>1.0</td>\n",
       "    </tr>\n",
       "    <tr>\n",
       "      <th>4</th>\n",
       "      <td>-1</td>\n",
       "      <td>0.0</td>\n",
       "      <td>0.0</td>\n",
       "      <td>1.0</td>\n",
       "      <td>1.0</td>\n",
       "      <td>0.0</td>\n",
       "      <td>0.0</td>\n",
       "      <td>1.0</td>\n",
       "      <td>0.0</td>\n",
       "    </tr>\n",
       "    <tr>\n",
       "      <th>5</th>\n",
       "      <td>-1</td>\n",
       "      <td>0.0</td>\n",
       "      <td>0.0</td>\n",
       "      <td>1.0</td>\n",
       "      <td>1.0</td>\n",
       "      <td>0.0</td>\n",
       "      <td>1.0</td>\n",
       "      <td>0.0</td>\n",
       "      <td>0.0</td>\n",
       "    </tr>\n",
       "    <tr>\n",
       "      <th>6</th>\n",
       "      <td>1</td>\n",
       "      <td>0.0</td>\n",
       "      <td>0.0</td>\n",
       "      <td>1.0</td>\n",
       "      <td>0.0</td>\n",
       "      <td>1.0</td>\n",
       "      <td>1.0</td>\n",
       "      <td>0.0</td>\n",
       "      <td>0.0</td>\n",
       "    </tr>\n",
       "    <tr>\n",
       "      <th>7</th>\n",
       "      <td>-1</td>\n",
       "      <td>1.0</td>\n",
       "      <td>0.0</td>\n",
       "      <td>0.0</td>\n",
       "      <td>0.0</td>\n",
       "      <td>1.0</td>\n",
       "      <td>0.0</td>\n",
       "      <td>0.0</td>\n",
       "      <td>1.0</td>\n",
       "    </tr>\n",
       "  </tbody>\n",
       "</table>\n",
       "</div>"
      ],
      "text/plain": [
       "   Label  Adresse_Montpellier  Adresse_Paris  Adresse_Strasbourg  Majeur?_non  \\\n",
       "0      1                  0.0            1.0                 0.0          0.0   \n",
       "1     -1                  0.0            1.0                 0.0          1.0   \n",
       "2      1                  1.0            0.0                 0.0          0.0   \n",
       "3     -1                  0.0            1.0                 0.0          0.0   \n",
       "4     -1                  0.0            0.0                 1.0          1.0   \n",
       "5     -1                  0.0            0.0                 1.0          1.0   \n",
       "6      1                  0.0            0.0                 1.0          0.0   \n",
       "7     -1                  1.0            0.0                 0.0          0.0   \n",
       "\n",
       "   Majeur?_oui  Nationalite_Francais  Nationalite_Italien  Nationalite_Suisse  \n",
       "0          1.0                   1.0                  0.0                 0.0  \n",
       "1          0.0                   1.0                  0.0                 0.0  \n",
       "2          1.0                   0.0                  1.0                 0.0  \n",
       "3          1.0                   0.0                  0.0                 1.0  \n",
       "4          0.0                   0.0                  1.0                 0.0  \n",
       "5          0.0                   1.0                  0.0                 0.0  \n",
       "6          1.0                   1.0                  0.0                 0.0  \n",
       "7          1.0                   0.0                  0.0                 1.0  "
      ]
     },
     "execution_count": 43,
     "metadata": {},
     "output_type": "execute_result"
    }
   ],
   "source": [
    "# ########## A COMPLETER\n",
    "elections_df_num = pd.get_dummies(elections_df)\n",
    "################################\n",
    "elections_df_num"
   ]
  },
  {
   "cell_type": "code",
   "execution_count": 44,
   "metadata": {},
   "outputs": [
    {
     "name": "stdout",
     "output_type": "stream",
     "text": [
      "Noms des features:  ['Adresse_Montpellier', 'Adresse_Paris', 'Adresse_Strasbourg', 'Majeur?_non', 'Majeur?_oui', 'Nationalite_Francais', 'Nationalite_Italien', 'Nationalite_Suisse']\n"
     ]
    }
   ],
   "source": [
    "# Prétraitement pour pouvoir utiliser un classifieur\n",
    "elections_num_noms = [nom for nom in elections_df_num.columns if nom != 'Label']\n",
    "\n",
    "print(\"Noms des features: \",elections_num_noms)\n",
    "\n",
    "# Passer du dataframe à des arrays:\n",
    "elections_num_desc = np.array(elections_df_num[elections_num_noms])\n",
    "elections_num_label = np.array(elections_df_num['Label'])\n",
    "\n",
    "# Transformer le dataframe en dataset:\n",
    "data_num_desc = np.array(elections_df_num[elections_num_noms])\n",
    "data_num_label = np.array(elections_df_num['Label'])\n"
   ]
  },
  {
   "cell_type": "markdown",
   "metadata": {},
   "source": [
    "<font color=\"RED\" size=\"+1\">**[Q]**</font> Réaliser un `leave_one_out` sur cette base (même paramétrage que celui pour la base catégorielle) et comparer le résultat avec celui obtenu dans le cas catégoriel. Commenter."
   ]
  },
  {
   "cell_type": "code",
   "execution_count": 45,
   "metadata": {},
   "outputs": [
    {
     "data": {
      "text/plain": [
       "0.875"
      ]
     },
     "execution_count": 45,
     "metadata": {},
     "output_type": "execute_result"
    }
   ],
   "source": [
    "le_dataset = (data_num_desc,data_num_label)\n",
    "\n",
    "arbre_decision = ClassifierArbreDecision(len(elections_num_noms), 0.0, elections_num_noms)\n",
    "acc = leave_one_out(arbre_decision, le_dataset)\n",
    "print(acc)"
   ]
  },
  {
   "cell_type": "markdown",
   "metadata": {},
   "source": [
    "<font color=\"RED\" size=\"+1\">**[Q]**</font> Toujours sur cette base, réaliser un `leave_one_out` avec le classifieur KNN. Tester différentes valeurs de $k$ et tracer le résultat obtenu."
   ]
  },
  {
   "cell_type": "code",
   "execution_count": 46,
   "metadata": {},
   "outputs": [
    {
     "data": {
      "image/png": "[encoded data removed]",
      "text/plain": [
       "<Figure size 640x480 with 1 Axes>"
      ]
     },
     "metadata": {},
     "output_type": "display_data"
    }
   ],
   "source": []
  },
  {
   "cell_type": "markdown",
   "metadata": {},
   "source": [
    "### Base des champignons"
   ]
  },
  {
   "cell_type": "markdown",
   "metadata": {},
   "source": [
    "<font color=\"RED\" size=\"+1\">**[Q]**</font> Réaliser un ensemble d'expérimentations sur la base mushrooms permettant de comparer les résultats obtenus avec un classifieur par arbres de décision et les classifieurs numériques que l'on a définis dans les séances précédentes.\n",
    "\n",
    "**Remarque**: commencer par une taille de base réduite pour que cela ne prenne pas trop de temps d'exécution..."
   ]
  },
  {
   "cell_type": "code",
   "execution_count": 47,
   "metadata": {},
   "outputs": [],
   "source": [
    "# Rechargement de la base de départ :\n",
    "\n",
    "# On commence par travailler sur un des fichier \"mushrooms-1400\"\n",
    "mushrooms_1_df = pd.read_csv(\"data/mushrooms-1400-1.csv\")\n",
    "# Dans ce dataframe, la colonne de classe s'appelle 'class'\n",
    "mushrooms_1_noms = [nom for nom in mushrooms_1_df.columns if nom != 'class']\n"
   ]
  },
  {
   "cell_type": "code",
   "execution_count": 48,
   "metadata": {},
   "outputs": [
    {
     "data": {
      "text/html": [
       "<div>\n",
       "<style scoped>\n",
       "    .dataframe tbody tr th:only-of-type {\n",
       "        vertical-align: middle;\n",
       "    }\n",
       "\n",
       "    .dataframe tbody tr th {\n",
       "        vertical-align: top;\n",
       "    }\n",
       "\n",
       "    .dataframe thead th {\n",
       "        text-align: right;\n",
       "    }\n",
       "</style>\n",
       "<table border=\"1\" class=\"dataframe\">\n",
       "  <thead>\n",
       "    <tr style=\"text-align: right;\">\n",
       "      <th></th>\n",
       "      <th>class</th>\n",
       "      <th>cap-shape_b</th>\n",
       "      <th>cap-shape_f</th>\n",
       "      <th>cap-shape_k</th>\n",
       "      <th>cap-shape_s</th>\n",
       "      <th>cap-shape_x</th>\n",
       "      <th>cap-surface_f</th>\n",
       "      <th>cap-surface_g</th>\n",
       "      <th>cap-surface_s</th>\n",
       "      <th>cap-surface_y</th>\n",
       "      <th>...</th>\n",
       "      <th>population_s</th>\n",
       "      <th>population_v</th>\n",
       "      <th>population_y</th>\n",
       "      <th>habitat_d</th>\n",
       "      <th>habitat_g</th>\n",
       "      <th>habitat_l</th>\n",
       "      <th>habitat_m</th>\n",
       "      <th>habitat_p</th>\n",
       "      <th>habitat_u</th>\n",
       "      <th>habitat_w</th>\n",
       "    </tr>\n",
       "  </thead>\n",
       "  <tbody>\n",
       "    <tr>\n",
       "      <th>0</th>\n",
       "      <td>p</td>\n",
       "      <td>0.0</td>\n",
       "      <td>0.0</td>\n",
       "      <td>0.0</td>\n",
       "      <td>0.0</td>\n",
       "      <td>1.0</td>\n",
       "      <td>0.0</td>\n",
       "      <td>0.0</td>\n",
       "      <td>0.0</td>\n",
       "      <td>1.0</td>\n",
       "      <td>...</td>\n",
       "      <td>0.0</td>\n",
       "      <td>1.0</td>\n",
       "      <td>0.0</td>\n",
       "      <td>1.0</td>\n",
       "      <td>0.0</td>\n",
       "      <td>0.0</td>\n",
       "      <td>0.0</td>\n",
       "      <td>0.0</td>\n",
       "      <td>0.0</td>\n",
       "      <td>0.0</td>\n",
       "    </tr>\n",
       "    <tr>\n",
       "      <th>1</th>\n",
       "      <td>p</td>\n",
       "      <td>0.0</td>\n",
       "      <td>0.0</td>\n",
       "      <td>0.0</td>\n",
       "      <td>0.0</td>\n",
       "      <td>1.0</td>\n",
       "      <td>0.0</td>\n",
       "      <td>0.0</td>\n",
       "      <td>1.0</td>\n",
       "      <td>0.0</td>\n",
       "      <td>...</td>\n",
       "      <td>0.0</td>\n",
       "      <td>1.0</td>\n",
       "      <td>0.0</td>\n",
       "      <td>0.0</td>\n",
       "      <td>0.0</td>\n",
       "      <td>1.0</td>\n",
       "      <td>0.0</td>\n",
       "      <td>0.0</td>\n",
       "      <td>0.0</td>\n",
       "      <td>0.0</td>\n",
       "    </tr>\n",
       "    <tr>\n",
       "      <th>2</th>\n",
       "      <td>p</td>\n",
       "      <td>0.0</td>\n",
       "      <td>0.0</td>\n",
       "      <td>0.0</td>\n",
       "      <td>0.0</td>\n",
       "      <td>1.0</td>\n",
       "      <td>1.0</td>\n",
       "      <td>0.0</td>\n",
       "      <td>0.0</td>\n",
       "      <td>0.0</td>\n",
       "      <td>...</td>\n",
       "      <td>0.0</td>\n",
       "      <td>1.0</td>\n",
       "      <td>0.0</td>\n",
       "      <td>1.0</td>\n",
       "      <td>0.0</td>\n",
       "      <td>0.0</td>\n",
       "      <td>0.0</td>\n",
       "      <td>0.0</td>\n",
       "      <td>0.0</td>\n",
       "      <td>0.0</td>\n",
       "    </tr>\n",
       "    <tr>\n",
       "      <th>3</th>\n",
       "      <td>p</td>\n",
       "      <td>0.0</td>\n",
       "      <td>0.0</td>\n",
       "      <td>0.0</td>\n",
       "      <td>0.0</td>\n",
       "      <td>1.0</td>\n",
       "      <td>1.0</td>\n",
       "      <td>0.0</td>\n",
       "      <td>0.0</td>\n",
       "      <td>0.0</td>\n",
       "      <td>...</td>\n",
       "      <td>0.0</td>\n",
       "      <td>0.0</td>\n",
       "      <td>1.0</td>\n",
       "      <td>0.0</td>\n",
       "      <td>1.0</td>\n",
       "      <td>0.0</td>\n",
       "      <td>0.0</td>\n",
       "      <td>0.0</td>\n",
       "      <td>0.0</td>\n",
       "      <td>0.0</td>\n",
       "    </tr>\n",
       "    <tr>\n",
       "      <th>4</th>\n",
       "      <td>p</td>\n",
       "      <td>0.0</td>\n",
       "      <td>0.0</td>\n",
       "      <td>0.0</td>\n",
       "      <td>0.0</td>\n",
       "      <td>1.0</td>\n",
       "      <td>1.0</td>\n",
       "      <td>0.0</td>\n",
       "      <td>0.0</td>\n",
       "      <td>0.0</td>\n",
       "      <td>...</td>\n",
       "      <td>0.0</td>\n",
       "      <td>0.0</td>\n",
       "      <td>1.0</td>\n",
       "      <td>1.0</td>\n",
       "      <td>0.0</td>\n",
       "      <td>0.0</td>\n",
       "      <td>0.0</td>\n",
       "      <td>0.0</td>\n",
       "      <td>0.0</td>\n",
       "      <td>0.0</td>\n",
       "    </tr>\n",
       "    <tr>\n",
       "      <th>...</th>\n",
       "      <td>...</td>\n",
       "      <td>...</td>\n",
       "      <td>...</td>\n",
       "      <td>...</td>\n",
       "      <td>...</td>\n",
       "      <td>...</td>\n",
       "      <td>...</td>\n",
       "      <td>...</td>\n",
       "      <td>...</td>\n",
       "      <td>...</td>\n",
       "      <td>...</td>\n",
       "      <td>...</td>\n",
       "      <td>...</td>\n",
       "      <td>...</td>\n",
       "      <td>...</td>\n",
       "      <td>...</td>\n",
       "      <td>...</td>\n",
       "      <td>...</td>\n",
       "      <td>...</td>\n",
       "      <td>...</td>\n",
       "      <td>...</td>\n",
       "    </tr>\n",
       "    <tr>\n",
       "      <th>1395</th>\n",
       "      <td>p</td>\n",
       "      <td>0.0</td>\n",
       "      <td>0.0</td>\n",
       "      <td>0.0</td>\n",
       "      <td>0.0</td>\n",
       "      <td>1.0</td>\n",
       "      <td>0.0</td>\n",
       "      <td>0.0</td>\n",
       "      <td>0.0</td>\n",
       "      <td>1.0</td>\n",
       "      <td>...</td>\n",
       "      <td>0.0</td>\n",
       "      <td>1.0</td>\n",
       "      <td>0.0</td>\n",
       "      <td>0.0</td>\n",
       "      <td>0.0</td>\n",
       "      <td>0.0</td>\n",
       "      <td>0.0</td>\n",
       "      <td>1.0</td>\n",
       "      <td>0.0</td>\n",
       "      <td>0.0</td>\n",
       "    </tr>\n",
       "    <tr>\n",
       "      <th>1396</th>\n",
       "      <td>e</td>\n",
       "      <td>0.0</td>\n",
       "      <td>1.0</td>\n",
       "      <td>0.0</td>\n",
       "      <td>0.0</td>\n",
       "      <td>0.0</td>\n",
       "      <td>0.0</td>\n",
       "      <td>0.0</td>\n",
       "      <td>0.0</td>\n",
       "      <td>1.0</td>\n",
       "      <td>...</td>\n",
       "      <td>0.0</td>\n",
       "      <td>1.0</td>\n",
       "      <td>0.0</td>\n",
       "      <td>1.0</td>\n",
       "      <td>0.0</td>\n",
       "      <td>0.0</td>\n",
       "      <td>0.0</td>\n",
       "      <td>0.0</td>\n",
       "      <td>0.0</td>\n",
       "      <td>0.0</td>\n",
       "    </tr>\n",
       "    <tr>\n",
       "      <th>1397</th>\n",
       "      <td>e</td>\n",
       "      <td>0.0</td>\n",
       "      <td>1.0</td>\n",
       "      <td>0.0</td>\n",
       "      <td>0.0</td>\n",
       "      <td>0.0</td>\n",
       "      <td>1.0</td>\n",
       "      <td>0.0</td>\n",
       "      <td>0.0</td>\n",
       "      <td>0.0</td>\n",
       "      <td>...</td>\n",
       "      <td>0.0</td>\n",
       "      <td>0.0</td>\n",
       "      <td>1.0</td>\n",
       "      <td>1.0</td>\n",
       "      <td>0.0</td>\n",
       "      <td>0.0</td>\n",
       "      <td>0.0</td>\n",
       "      <td>0.0</td>\n",
       "      <td>0.0</td>\n",
       "      <td>0.0</td>\n",
       "    </tr>\n",
       "    <tr>\n",
       "      <th>1398</th>\n",
       "      <td>p</td>\n",
       "      <td>0.0</td>\n",
       "      <td>0.0</td>\n",
       "      <td>0.0</td>\n",
       "      <td>0.0</td>\n",
       "      <td>1.0</td>\n",
       "      <td>1.0</td>\n",
       "      <td>0.0</td>\n",
       "      <td>0.0</td>\n",
       "      <td>0.0</td>\n",
       "      <td>...</td>\n",
       "      <td>0.0</td>\n",
       "      <td>0.0</td>\n",
       "      <td>1.0</td>\n",
       "      <td>1.0</td>\n",
       "      <td>0.0</td>\n",
       "      <td>0.0</td>\n",
       "      <td>0.0</td>\n",
       "      <td>0.0</td>\n",
       "      <td>0.0</td>\n",
       "      <td>0.0</td>\n",
       "    </tr>\n",
       "    <tr>\n",
       "      <th>1399</th>\n",
       "      <td>e</td>\n",
       "      <td>0.0</td>\n",
       "      <td>1.0</td>\n",
       "      <td>0.0</td>\n",
       "      <td>0.0</td>\n",
       "      <td>0.0</td>\n",
       "      <td>1.0</td>\n",
       "      <td>0.0</td>\n",
       "      <td>0.0</td>\n",
       "      <td>0.0</td>\n",
       "      <td>...</td>\n",
       "      <td>0.0</td>\n",
       "      <td>1.0</td>\n",
       "      <td>0.0</td>\n",
       "      <td>1.0</td>\n",
       "      <td>0.0</td>\n",
       "      <td>0.0</td>\n",
       "      <td>0.0</td>\n",
       "      <td>0.0</td>\n",
       "      <td>0.0</td>\n",
       "      <td>0.0</td>\n",
       "    </tr>\n",
       "  </tbody>\n",
       "</table>\n",
       "<p>1400 rows × 115 columns</p>\n",
       "</div>"
      ],
      "text/plain": [
       "     class  cap-shape_b  cap-shape_f  cap-shape_k  cap-shape_s  cap-shape_x  \\\n",
       "0        p          0.0          0.0          0.0          0.0          1.0   \n",
       "1        p          0.0          0.0          0.0          0.0          1.0   \n",
       "2        p          0.0          0.0          0.0          0.0          1.0   \n",
       "3        p          0.0          0.0          0.0          0.0          1.0   \n",
       "4        p          0.0          0.0          0.0          0.0          1.0   \n",
       "...    ...          ...          ...          ...          ...          ...   \n",
       "1395     p          0.0          0.0          0.0          0.0          1.0   \n",
       "1396     e          0.0          1.0          0.0          0.0          0.0   \n",
       "1397     e          0.0          1.0          0.0          0.0          0.0   \n",
       "1398     p          0.0          0.0          0.0          0.0          1.0   \n",
       "1399     e          0.0          1.0          0.0          0.0          0.0   \n",
       "\n",
       "      cap-surface_f  cap-surface_g  cap-surface_s  cap-surface_y  ...  \\\n",
       "0               0.0            0.0            0.0            1.0  ...   \n",
       "1               0.0            0.0            1.0            0.0  ...   \n",
       "2               1.0            0.0            0.0            0.0  ...   \n",
       "3               1.0            0.0            0.0            0.0  ...   \n",
       "4               1.0            0.0            0.0            0.0  ...   \n",
       "...             ...            ...            ...            ...  ...   \n",
       "1395            0.0            0.0            0.0            1.0  ...   \n",
       "1396            0.0            0.0            0.0            1.0  ...   \n",
       "1397            1.0            0.0            0.0            0.0  ...   \n",
       "1398            1.0            0.0            0.0            0.0  ...   \n",
       "1399            1.0            0.0            0.0            0.0  ...   \n",
       "\n",
       "      population_s  population_v  population_y  habitat_d  habitat_g  \\\n",
       "0              0.0           1.0           0.0        1.0        0.0   \n",
       "1              0.0           1.0           0.0        0.0        0.0   \n",
       "2              0.0           1.0           0.0        1.0        0.0   \n",
       "3              0.0           0.0           1.0        0.0        1.0   \n",
       "4              0.0           0.0           1.0        1.0        0.0   \n",
       "...            ...           ...           ...        ...        ...   \n",
       "1395           0.0           1.0           0.0        0.0        0.0   \n",
       "1396           0.0           1.0           0.0        1.0        0.0   \n",
       "1397           0.0           0.0           1.0        1.0        0.0   \n",
       "1398           0.0           0.0           1.0        1.0        0.0   \n",
       "1399           0.0           1.0           0.0        1.0        0.0   \n",
       "\n",
       "      habitat_l  habitat_m  habitat_p  habitat_u  habitat_w  \n",
       "0           0.0        0.0        0.0        0.0        0.0  \n",
       "1           1.0        0.0        0.0        0.0        0.0  \n",
       "2           0.0        0.0        0.0        0.0        0.0  \n",
       "3           0.0        0.0        0.0        0.0        0.0  \n",
       "4           0.0        0.0        0.0        0.0        0.0  \n",
       "...         ...        ...        ...        ...        ...  \n",
       "1395        0.0        0.0        1.0        0.0        0.0  \n",
       "1396        0.0        0.0        0.0        0.0        0.0  \n",
       "1397        0.0        0.0        0.0        0.0        0.0  \n",
       "1398        0.0        0.0        0.0        0.0        0.0  \n",
       "1399        0.0        0.0        0.0        0.0        0.0  \n",
       "\n",
       "[1400 rows x 115 columns]"
      ]
     },
     "execution_count": 48,
     "metadata": {},
     "output_type": "execute_result"
    }
   ],
   "source": [
    "mushrooms_1_num = pd.get_dummies(mushrooms_1_df, columns = mushrooms_1_noms, dtype=float)\n",
    "mushrooms_1_num "
   ]
  },
  {
   "cell_type": "code",
   "execution_count": 49,
   "metadata": {},
   "outputs": [
    {
     "name": "stdout",
     "output_type": "stream",
     "text": [
      "Noms des features:  ['cap-shape_b', 'cap-shape_f', 'cap-shape_k', 'cap-shape_s', 'cap-shape_x', 'cap-surface_f', 'cap-surface_g', 'cap-surface_s', 'cap-surface_y', 'cap-color_b', 'cap-color_c', 'cap-color_e', 'cap-color_g', 'cap-color_n', 'cap-color_p', 'cap-color_r', 'cap-color_u', 'cap-color_w', 'cap-color_y', 'bruises_f', 'bruises_t', 'odor_a', 'odor_c', 'odor_f', 'odor_l', 'odor_m', 'odor_n', 'odor_p', 'odor_s', 'odor_y', 'gill-attachment_a', 'gill-attachment_f', 'gill-spacing_c', 'gill-spacing_w', 'gill-size_b', 'gill-size_n', 'gill-color_b', 'gill-color_e', 'gill-color_g', 'gill-color_h', 'gill-color_k', 'gill-color_n', 'gill-color_o', 'gill-color_p', 'gill-color_r', 'gill-color_u', 'gill-color_w', 'gill-color_y', 'stalk-shape_e', 'stalk-shape_t', 'stalk-root_?', 'stalk-root_b', 'stalk-root_c', 'stalk-root_e', 'stalk-root_r', 'stalk-surface-above-ring_f', 'stalk-surface-above-ring_k', 'stalk-surface-above-ring_s', 'stalk-surface-above-ring_y', 'stalk-surface-below-ring_f', 'stalk-surface-below-ring_k', 'stalk-surface-below-ring_s', 'stalk-surface-below-ring_y', 'stalk-color-above-ring_b', 'stalk-color-above-ring_c', 'stalk-color-above-ring_e', 'stalk-color-above-ring_g', 'stalk-color-above-ring_n', 'stalk-color-above-ring_o', 'stalk-color-above-ring_p', 'stalk-color-above-ring_w', 'stalk-color-below-ring_b', 'stalk-color-below-ring_c', 'stalk-color-below-ring_e', 'stalk-color-below-ring_g', 'stalk-color-below-ring_n', 'stalk-color-below-ring_o', 'stalk-color-below-ring_p', 'stalk-color-below-ring_w', 'stalk-color-below-ring_y', 'veil-type_p', 'veil-color_n', 'veil-color_o', 'veil-color_w', 'ring-number_n', 'ring-number_o', 'ring-number_t', 'ring-type_e', 'ring-type_f', 'ring-type_l', 'ring-type_n', 'ring-type_p', 'spore-print-color_b', 'spore-print-color_h', 'spore-print-color_k', 'spore-print-color_n', 'spore-print-color_o', 'spore-print-color_r', 'spore-print-color_u', 'spore-print-color_w', 'spore-print-color_y', 'population_a', 'population_c', 'population_n', 'population_s', 'population_v', 'population_y', 'habitat_d', 'habitat_g', 'habitat_l', 'habitat_m', 'habitat_p', 'habitat_u', 'habitat_w']\n"
     ]
    }
   ],
   "source": [
    "# Prétraitement pour pouvoir utiliser un classifieur\n",
    "mushrooms_1_num_noms = [nom for nom in mushrooms_1_num.columns if nom != 'class']\n",
    "\n",
    "print(\"Noms des features: \",mushrooms_1_num_noms)\n",
    "\n",
    "# Passer du dataframe à des arrays:\n",
    "mushrooms_1_num_desc = np.array(mushrooms_1_num[mushrooms_1_num_noms])\n",
    "mushrooms_1_num_label = np.array(mushrooms_1_num['class'])\n",
    "\n",
    "# Transformer le dataframe en dataset:\n",
    "data_num_desc = np.array(mushrooms_1_num[mushrooms_1_num_noms])\n",
    "\n",
    "# Remarque : pour utiliser les classifieurs précédents, il faut que la classe soit +1 ou -1\n",
    "# on convertit donc 'e' et 'p'\n",
    "val_class ={'e':1, 'p':-1}\n",
    "data_num_label = np.array([val_class[c] for c in mushrooms_1_num['class']])\n"
   ]
  },
  {
   "cell_type": "code",
   "execution_count": 50,
   "metadata": {},
   "outputs": [
    {
     "name": "stdout",
     "output_type": "stream",
     "text": [
      "Exemple de résultat sur les données numériques: validation croisée avec les arbres de décisions\n",
      "------ affichage validation croisée (optionnel)\n",
      "Itération 0: taille base app.= 1261\ttaille base test= 139\tTaux de bonne classif: 1.0000\n",
      "Itération 1: taille base app.= 1261\ttaille base test= 139\tTaux de bonne classif: 1.0000\n",
      "Itération 2: taille base app.= 1261\ttaille base test= 139\tTaux de bonne classif: 0.9784\n",
      "Itération 3: taille base app.= 1261\ttaille base test= 139\tTaux de bonne classif: 0.9928\n",
      "Itération 4: taille base app.= 1261\ttaille base test= 139\tTaux de bonne classif: 1.0000\n",
      "Itération 5: taille base app.= 1261\ttaille base test= 139\tTaux de bonne classif: 1.0000\n",
      "Itération 6: taille base app.= 1261\ttaille base test= 139\tTaux de bonne classif: 1.0000\n",
      "Itération 7: taille base app.= 1261\ttaille base test= 139\tTaux de bonne classif: 1.0000\n",
      "Itération 8: taille base app.= 1261\ttaille base test= 139\tTaux de bonne classif: 1.0000\n",
      "Itération 9: taille base app.= 1261\ttaille base test= 139\tTaux de bonne classif: 1.0000\n",
      "------ fin affichage validation croisée\n",
      "Accuracy moyenne: 0.997\técart type: 0.0066\n",
      "Résultat en 0.7836 secondes.\n"
     ]
    }
   ],
   "source": [
    "print(\"Exemple de résultat sur les données numériques: validation croisée avec les arbres de décisions\")\n",
    "\n",
    "arbre = ClassifierArbreDecision(len(mushrooms_1_num_noms), 0.1, mushrooms_1_num_noms)\n",
    "\n",
    "# Remarque: j'ai mis des affichage dans la fonction validation croisée afin de montrer\n",
    "# ce qui se passe:\n",
    "tic= time.time()\n",
    "(res_all, res_moy, res_sd) = ev.validation_croisee(arbre, (data_num_desc, data_num_label), 10)\n",
    "toc =time.time()\n",
    "\n",
    "#print(\"Perf obtenues : \",res_all)\n",
    "print(f'Accuracy moyenne: {res_moy:0.3f}\\técart type: {res_sd:0.4f}')\n",
    "print(f'Résultat en {(toc-tic):0.4f} secondes.')"
   ]
  },
  {
   "cell_type": "code",
   "execution_count": 51,
   "metadata": {},
   "outputs": [
    {
     "name": "stdout",
     "output_type": "stream",
     "text": [
      "Exemple de résultat: validation croisée avec un knn pour k= 3\n",
      "------ affichage validation croisée (optionnel)\n",
      "Itération 0: taille base app.= 1261\ttaille base test= 139\tTaux de bonne classif: 1.0000\n",
      "Itération 1: taille base app.= 1261\ttaille base test= 139\tTaux de bonne classif: 1.0000\n",
      "Itération 2: taille base app.= 1261\ttaille base test= 139\tTaux de bonne classif: 0.9928\n",
      "Itération 3: taille base app.= 1261\ttaille base test= 139\tTaux de bonne classif: 0.9928\n",
      "Itération 4: taille base app.= 1261\ttaille base test= 139\tTaux de bonne classif: 1.0000\n",
      "Itération 5: taille base app.= 1261\ttaille base test= 139\tTaux de bonne classif: 1.0000\n",
      "Itération 6: taille base app.= 1261\ttaille base test= 139\tTaux de bonne classif: 1.0000\n",
      "Itération 7: taille base app.= 1261\ttaille base test= 139\tTaux de bonne classif: 1.0000\n",
      "Itération 8: taille base app.= 1261\ttaille base test= 139\tTaux de bonne classif: 1.0000\n",
      "Itération 9: taille base app.= 1261\ttaille base test= 139\tTaux de bonne classif: 1.0000\n",
      "------ fin affichage validation croisée\n",
      "Accuracy moyenne:  0.9985611510791367 \técart type:  0.002877697841726601\n",
      "Résultat en 0.4970 secondes.\n"
     ]
    }
   ],
   "source": [
    "k=3\n",
    "print(\"Exemple de résultat: validation croisée avec un knn pour k=\",k)\n",
    "\n",
    "knn = classif.ClassifierKNN(len(mushrooms_1_num_noms),k)\n",
    "\n",
    "# Remarque: j'ai mis des affichage dans la fonction validation croisée afin de montrer\n",
    "# ce qui se passe:\n",
    "tic= time.time()\n",
    "(res_all, res_moy, res_sd) = ev.validation_croisee(knn, (data_num_desc, data_num_label), 10)\n",
    "toc= time.time()\n",
    "\n",
    "#print(\"Perf obtenues : \",res_all)\n",
    "print(\"Accuracy moyenne: \",res_moy,\"\\técart type: \", res_sd)\n",
    "print(f'Résultat en {(toc-tic):0.4f} secondes.')"
   ]
  },
  {
   "cell_type": "code",
   "execution_count": 52,
   "metadata": {},
   "outputs": [
    {
     "name": "stdout",
     "output_type": "stream",
     "text": [
      "Exemple de résultat: validation croisée avec un perceptron biais\n",
      "------ affichage validation croisée (optionnel)\n",
      "Itération 0: taille base app.= 1261\ttaille base test= 139\tTaux de bonne classif: 1.0000\n",
      "Itération 1: taille base app.= 1261\ttaille base test= 139\tTaux de bonne classif: 1.0000\n",
      "Itération 2: taille base app.= 1261\ttaille base test= 139\tTaux de bonne classif: 0.9928\n",
      "Itération 3: taille base app.= 1261\ttaille base test= 139\tTaux de bonne classif: 0.9928\n",
      "Itération 4: taille base app.= 1261\ttaille base test= 139\tTaux de bonne classif: 1.0000\n",
      "Itération 5: taille base app.= 1261\ttaille base test= 139\tTaux de bonne classif: 1.0000\n",
      "Itération 6: taille base app.= 1261\ttaille base test= 139\tTaux de bonne classif: 1.0000\n",
      "Itération 7: taille base app.= 1261\ttaille base test= 139\tTaux de bonne classif: 1.0000\n",
      "Itération 8: taille base app.= 1261\ttaille base test= 139\tTaux de bonne classif: 1.0000\n",
      "Itération 9: taille base app.= 1261\ttaille base test= 139\tTaux de bonne classif: 1.0000\n",
      "------ fin affichage validation croisée\n",
      "Perf obtenues :  [1.0, 1.0, 0.9928057553956835, 0.9928057553956835, 1.0, 1.0, 1.0, 1.0, 1.0, 1.0]\n",
      "Accuracy moyenne: 0.999\técart type: 0.0029\n",
      "Résultat en 0.4866 secondes.\n"
     ]
    }
   ],
   "source": [
    "print(\"Exemple de résultat: validation croisée avec un perceptron biais\")\n",
    "\n"
   ]
  },
  {
   "cell_type": "markdown",
   "metadata": {},
   "source": [
    "<font color=\"RED\" size=\"+1\">**[Q]**</font> *Toujours plus...*  \n",
    "\n",
    "Réaliser les mêmes expérimentations avec la base mushrooms complète."
   ]
  },
  {
   "cell_type": "code",
   "execution_count": 53,
   "metadata": {},
   "outputs": [
    {
     "name": "stdout",
     "output_type": "stream",
     "text": [
      "Résultats pour les arbres de décision: \n",
      "\tAccuracy moyenne: 1.000\técart type: 0.0000\n",
      "\tRésultat en 1.9270 secondes.\n",
      "Résultats pour le perceptron: \n",
      "\tAccuracy moyenne: 1.000\técart type: 0.0000\n",
      "\tRésultat en 15.6848 secondes.\n",
      "Résultats pour les kppv (k=5): \n",
      "\tAccuracy moyenne: 1.000\técart type: 0.0000\n",
      "\tRésultat en 18.7536 secondes.\n"
     ]
    }
   ],
   "source": []
  },
  {
   "cell_type": "markdown",
   "metadata": {},
   "source": [
    "<font color=\"RED\" size=\"+1\">**[Q]**</font> *Encore plus...*  \n",
    "\n",
    "Pour réaliser une comparaison complète, en plus de l'accuracy moyenne et son écart type, afficher la taille moyenne des arbres construits (grâce à la méthode `number_leaves`).\n"
   ]
  },
  {
   "cell_type": "code",
   "execution_count": null,
   "metadata": {},
   "outputs": [],
   "source": []
  }
 ],
 "metadata": {
  "kernelspec": {
   "display_name": "Python 3 (ipykernel)",
   "language": "python",
   "name": "python3"
  },
  "language_info": {
   "codemirror_mode": {
    "name": "ipython",
    "version": 3
   },
   "file_extension": ".py",
   "mimetype": "text/x-python",
   "name": "python",
   "nbconvert_exporter": "python",
   "pygments_lexer": "ipython3",
   "version": "3.9.7"
  }
 },
 "nbformat": 4,
 "nbformat_minor": 4
}
